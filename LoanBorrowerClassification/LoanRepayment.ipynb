{
 "cells": [
  {
   "cell_type": "markdown",
   "metadata": {
    "colab_type": "text",
    "id": "jFZYajVR1_Xn"
   },
   "source": [
    "<center>\n",
    "    <h1><b>Loan Borrower Classification</b></h1>\n",
    "</center>\n",
    "\n",
    "**Table of Contents:**\n",
    "    \n",
    "\n",
    "  1.&nbsp;[Problem Statement and Background Information](#section1)<br>\n",
    "         \n",
    "  2.&nbsp;[Data Loading](#section2)<br>\n",
    "       \n",
    "  3.&nbsp;[Data Analysis and  pre-processing](#section3)<br>\n",
    "      &nbsp;&nbsp;&nbsp;&nbsp;&nbsp;&nbsp;3.1&nbsp;[Data Visualization](#section31)<br>\n",
    "      &nbsp;&nbsp;&nbsp;&nbsp;&nbsp;&nbsp;3.2&nbsp;[Handling Categorical variable through Dummification](#section32)<br>\n",
    "      &nbsp;&nbsp;&nbsp;&nbsp;&nbsp;&nbsp;3.3&nbsp;[Train-Test Split](#section33)<br>\n",
    "      \n",
    "  4.&nbsp;[Data modeling](#section4)<br>\n",
    "      &nbsp;&nbsp;&nbsp;&nbsp;&nbsp;&nbsp;4.1&nbsp;[Decision Tree](#section41)<br>\n",
    "      &nbsp;&nbsp;&nbsp;&nbsp;&nbsp;&nbsp;&nbsp;&nbsp;4.1.1&nbsp;[Building Decision Tree Model](#section411)<br>\n",
    "      &nbsp;&nbsp;&nbsp;&nbsp;&nbsp;&nbsp;&nbsp;&nbsp;4.1.2&nbsp;[Model Evaluation](#section412)<br>\n",
    "      &nbsp;&nbsp;&nbsp;&nbsp;&nbsp;&nbsp;4.2&nbsp;[Random Forest](#section41)<br>\n",
    "      &nbsp;&nbsp;&nbsp;&nbsp;&nbsp;&nbsp;&nbsp;&nbsp;4.2.1&nbsp;[Building Random Forest Model](#section421)<br>\n",
    "      &nbsp;&nbsp;&nbsp;&nbsp;&nbsp;&nbsp;&nbsp;&nbsp;4.2.2&nbsp;[Model Evaluation](#section422)<br>\n",
    "      \n",
    "\n",
    "  "
   ]
  },
  {
   "cell_type": "markdown",
   "metadata": {
    "colab_type": "text",
    "id": "ed1wvOYf1_Xo"
   },
   "source": [
    "<a id=\"section1\"></a>\n",
    "<h3><b>1. Problem Statement and Background Information</b></h3>\n",
    "\n",
    "Exploring publicly available data from __LendingClub.com__. Lending Club connects people who need money __(borrowers)__ with people who have money __(investors)__.I am trying to create a model that will help predict people who have a profile of having a __high probability of paying back__.\n",
    "\n",
    "Lending club had a very interesting year in __2016__. This data is from _before they even went public_.\n",
    "\n",
    "I'm using lending data from __2007-2010__ and trying to classify and predict whether or not the borrower paid back their loan in full.\n",
    "\n",
    "Here are what the columns represent:\n",
    "- __credit.policy:__ 1 if the customer meets the credit underwriting criteria of LendingClub.com, and 0 otherwise.\n",
    "- __purpose:__ The purpose of the loan (takes values \"credit_card\", \"debt_consolidation\", \"educational\", \"major_purchase\", \"small_business\", and \"all_other\").\n",
    "- __int.rate:__ The interest rate of the loan, as a proportion (a rate of 11% would be stored as 0.11). Borrowers judged by LendingClub.com to be more risky are assigned higher interest rates.\n",
    "- __installment:__ The monthly installments owed by the borrower if the loan is funded.\n",
    "- __log.annual.inc:__ The natural log of the self-reported annual income of the borrower.\n",
    "- __dti:__ The debt-to-income ratio of the borrower (amount of debt divided by annual income).\n",
    "- __fico:__ The FICO credit score of the borrower.\n",
    "- __days.with.cr.line:__ The number of days the borrower has had a credit line.\n",
    "- __revol.bal:__ The borrower's revolving balance (amount unpaid at the end of the credit card billing cycle).\n",
    "- __revol.util:__ The borrower's revolving line utilization rate (the amount of the credit line used relative to total credit available).\n",
    "- __inq.last.6mths:__ The borrower's number of inquiries by creditors in the last 6 months.\n",
    "- __delinq.2yrs:__ The number of times the borrower had been 30+ days past due on a payment in the past 2 years.\n",
    "- __pub.rec:__ The borrower's number of derogatory public records (bankruptcy filings, tax liens, or judgments)."
   ]
  },
  {
   "cell_type": "markdown",
   "metadata": {
    "colab_type": "text",
    "id": "chngXieq1_Xp"
   },
   "source": [
    "<a id=\"section2\"></a>\n",
    "<h3><b>2. Data Loading </b></h3>"
   ]
  },
  {
   "cell_type": "code",
   "execution_count": 2,
   "metadata": {
    "colab": {
     "base_uri": "https://localhost:8080/",
     "height": 224
    },
    "colab_type": "code",
    "id": "aySw9Y4t1_Xt",
    "outputId": "b146620e-4a4f-4d8b-e02e-5dffe4e35fef"
   },
   "outputs": [
    {
     "data": {
      "text/html": [
       "<div>\n",
       "<style scoped>\n",
       "    .dataframe tbody tr th:only-of-type {\n",
       "        vertical-align: middle;\n",
       "    }\n",
       "\n",
       "    .dataframe tbody tr th {\n",
       "        vertical-align: top;\n",
       "    }\n",
       "\n",
       "    .dataframe thead th {\n",
       "        text-align: right;\n",
       "    }\n",
       "</style>\n",
       "<table border=\"1\" class=\"dataframe\">\n",
       "  <thead>\n",
       "    <tr style=\"text-align: right;\">\n",
       "      <th></th>\n",
       "      <th>credit.policy</th>\n",
       "      <th>purpose</th>\n",
       "      <th>int.rate</th>\n",
       "      <th>installment</th>\n",
       "      <th>log.annual.inc</th>\n",
       "      <th>dti</th>\n",
       "      <th>fico</th>\n",
       "      <th>days.with.cr.line</th>\n",
       "      <th>revol.bal</th>\n",
       "      <th>revol.util</th>\n",
       "      <th>inq.last.6mths</th>\n",
       "      <th>delinq.2yrs</th>\n",
       "      <th>pub.rec</th>\n",
       "      <th>not.fully.paid</th>\n",
       "    </tr>\n",
       "  </thead>\n",
       "  <tbody>\n",
       "    <tr>\n",
       "      <th>0</th>\n",
       "      <td>1</td>\n",
       "      <td>debt_consolidation</td>\n",
       "      <td>0.1189</td>\n",
       "      <td>829.10</td>\n",
       "      <td>11.350407</td>\n",
       "      <td>19.48</td>\n",
       "      <td>737</td>\n",
       "      <td>5639.958333</td>\n",
       "      <td>28854</td>\n",
       "      <td>52.1</td>\n",
       "      <td>0</td>\n",
       "      <td>0</td>\n",
       "      <td>0</td>\n",
       "      <td>0</td>\n",
       "    </tr>\n",
       "    <tr>\n",
       "      <th>1</th>\n",
       "      <td>1</td>\n",
       "      <td>credit_card</td>\n",
       "      <td>0.1071</td>\n",
       "      <td>228.22</td>\n",
       "      <td>11.082143</td>\n",
       "      <td>14.29</td>\n",
       "      <td>707</td>\n",
       "      <td>2760.000000</td>\n",
       "      <td>33623</td>\n",
       "      <td>76.7</td>\n",
       "      <td>0</td>\n",
       "      <td>0</td>\n",
       "      <td>0</td>\n",
       "      <td>0</td>\n",
       "    </tr>\n",
       "    <tr>\n",
       "      <th>2</th>\n",
       "      <td>1</td>\n",
       "      <td>debt_consolidation</td>\n",
       "      <td>0.1357</td>\n",
       "      <td>366.86</td>\n",
       "      <td>10.373491</td>\n",
       "      <td>11.63</td>\n",
       "      <td>682</td>\n",
       "      <td>4710.000000</td>\n",
       "      <td>3511</td>\n",
       "      <td>25.6</td>\n",
       "      <td>1</td>\n",
       "      <td>0</td>\n",
       "      <td>0</td>\n",
       "      <td>0</td>\n",
       "    </tr>\n",
       "    <tr>\n",
       "      <th>3</th>\n",
       "      <td>1</td>\n",
       "      <td>debt_consolidation</td>\n",
       "      <td>0.1008</td>\n",
       "      <td>162.34</td>\n",
       "      <td>11.350407</td>\n",
       "      <td>8.10</td>\n",
       "      <td>712</td>\n",
       "      <td>2699.958333</td>\n",
       "      <td>33667</td>\n",
       "      <td>73.2</td>\n",
       "      <td>1</td>\n",
       "      <td>0</td>\n",
       "      <td>0</td>\n",
       "      <td>0</td>\n",
       "    </tr>\n",
       "    <tr>\n",
       "      <th>4</th>\n",
       "      <td>1</td>\n",
       "      <td>credit_card</td>\n",
       "      <td>0.1426</td>\n",
       "      <td>102.92</td>\n",
       "      <td>11.299732</td>\n",
       "      <td>14.97</td>\n",
       "      <td>667</td>\n",
       "      <td>4066.000000</td>\n",
       "      <td>4740</td>\n",
       "      <td>39.5</td>\n",
       "      <td>0</td>\n",
       "      <td>1</td>\n",
       "      <td>0</td>\n",
       "      <td>0</td>\n",
       "    </tr>\n",
       "  </tbody>\n",
       "</table>\n",
       "</div>"
      ],
      "text/plain": [
       "   credit.policy             purpose  int.rate  installment  log.annual.inc  \\\n",
       "0              1  debt_consolidation    0.1189       829.10       11.350407   \n",
       "1              1         credit_card    0.1071       228.22       11.082143   \n",
       "2              1  debt_consolidation    0.1357       366.86       10.373491   \n",
       "3              1  debt_consolidation    0.1008       162.34       11.350407   \n",
       "4              1         credit_card    0.1426       102.92       11.299732   \n",
       "\n",
       "     dti  fico  days.with.cr.line  revol.bal  revol.util  inq.last.6mths  \\\n",
       "0  19.48   737        5639.958333      28854        52.1               0   \n",
       "1  14.29   707        2760.000000      33623        76.7               0   \n",
       "2  11.63   682        4710.000000       3511        25.6               1   \n",
       "3   8.10   712        2699.958333      33667        73.2               1   \n",
       "4  14.97   667        4066.000000       4740        39.5               0   \n",
       "\n",
       "   delinq.2yrs  pub.rec  not.fully.paid  \n",
       "0            0        0               0  \n",
       "1            0        0               0  \n",
       "2            0        0               0  \n",
       "3            0        0               0  \n",
       "4            1        0               0  "
      ]
     },
     "execution_count": 2,
     "metadata": {},
     "output_type": "execute_result"
    }
   ],
   "source": [
    "import pandas as pd\n",
    "loans = pd.read_csv('https://raw.githubusercontent.com/insaid2018/Term-2/master/Data/loan_data.csv')\n",
    "loans.head()"
   ]
  },
  {
   "cell_type": "markdown",
   "metadata": {},
   "source": [
    "<a id=\"section3\"></a>\n",
    "<h3><b>3. Data Analysis and Preprocessing</b></h3>"
   ]
  },
  {
   "cell_type": "markdown",
   "metadata": {
    "colab_type": "text",
    "id": "YOJbbDOi1_Xy"
   },
   "source": [
    "### Check the columns present in dataset"
   ]
  },
  {
   "cell_type": "code",
   "execution_count": 0,
   "metadata": {
    "colab": {
     "base_uri": "https://localhost:8080/",
     "height": 85
    },
    "colab_type": "code",
    "id": "mfY25kpt1_X0",
    "outputId": "63be4f14-5cec-4f53-9d3f-5879513eb0c0"
   },
   "outputs": [
    {
     "data": {
      "text/plain": [
       "Index(['credit.policy', 'purpose', 'int.rate', 'installment', 'log.annual.inc',\n",
       "       'dti', 'fico', 'days.with.cr.line', 'revol.bal', 'revol.util',\n",
       "       'inq.last.6mths', 'delinq.2yrs', 'pub.rec', 'not.fully.paid'],\n",
       "      dtype='object')"
      ]
     },
     "execution_count": 69,
     "metadata": {
      "tags": []
     },
     "output_type": "execute_result"
    }
   ],
   "source": [
    "loans.columns"
   ]
  },
  {
   "cell_type": "code",
   "execution_count": 3,
   "metadata": {},
   "outputs": [
    {
     "data": {
      "text/plain": [
       "0    8045\n",
       "1    1533\n",
       "Name: not.fully.paid, dtype: int64"
      ]
     },
     "execution_count": 3,
     "metadata": {},
     "output_type": "execute_result"
    }
   ],
   "source": [
    "loans['not.fully.paid'].value_counts()"
   ]
  },
  {
   "cell_type": "markdown",
   "metadata": {
    "colab_type": "text",
    "id": "Qab3MaAd1_X5"
   },
   "source": [
    "### Check the shape of dataset"
   ]
  },
  {
   "cell_type": "code",
   "execution_count": 0,
   "metadata": {
    "colab": {
     "base_uri": "https://localhost:8080/",
     "height": 34
    },
    "colab_type": "code",
    "id": "XyZKLztM1_X6",
    "outputId": "b19e0fbe-6e94-48c6-955e-1718ab187668"
   },
   "outputs": [
    {
     "data": {
      "text/plain": [
       "(9578, 14)"
      ]
     },
     "execution_count": 70,
     "metadata": {
      "tags": []
     },
     "output_type": "execute_result"
    }
   ],
   "source": [
    "loans.shape"
   ]
  },
  {
   "cell_type": "markdown",
   "metadata": {
    "colab_type": "text",
    "id": "MYBVwjtf1_X_"
   },
   "source": [
    "### Check the descriptive statistics of dataset"
   ]
  },
  {
   "cell_type": "code",
   "execution_count": 0,
   "metadata": {
    "colab": {
     "base_uri": "https://localhost:8080/",
     "height": 317
    },
    "colab_type": "code",
    "id": "FcHYysAY1_YA",
    "outputId": "dad42da3-b96a-4849-c222-88950457a549"
   },
   "outputs": [
    {
     "data": {
      "text/html": [
       "<div>\n",
       "<style scoped>\n",
       "    .dataframe tbody tr th:only-of-type {\n",
       "        vertical-align: middle;\n",
       "    }\n",
       "\n",
       "    .dataframe tbody tr th {\n",
       "        vertical-align: top;\n",
       "    }\n",
       "\n",
       "    .dataframe thead th {\n",
       "        text-align: right;\n",
       "    }\n",
       "</style>\n",
       "<table border=\"1\" class=\"dataframe\">\n",
       "  <thead>\n",
       "    <tr style=\"text-align: right;\">\n",
       "      <th></th>\n",
       "      <th>credit.policy</th>\n",
       "      <th>int.rate</th>\n",
       "      <th>installment</th>\n",
       "      <th>log.annual.inc</th>\n",
       "      <th>dti</th>\n",
       "      <th>fico</th>\n",
       "      <th>days.with.cr.line</th>\n",
       "      <th>revol.bal</th>\n",
       "      <th>revol.util</th>\n",
       "      <th>inq.last.6mths</th>\n",
       "      <th>delinq.2yrs</th>\n",
       "      <th>pub.rec</th>\n",
       "      <th>not.fully.paid</th>\n",
       "    </tr>\n",
       "  </thead>\n",
       "  <tbody>\n",
       "    <tr>\n",
       "      <th>count</th>\n",
       "      <td>9578.000000</td>\n",
       "      <td>9578.000000</td>\n",
       "      <td>9578.000000</td>\n",
       "      <td>9578.000000</td>\n",
       "      <td>9578.000000</td>\n",
       "      <td>9578.000000</td>\n",
       "      <td>9578.000000</td>\n",
       "      <td>9.578000e+03</td>\n",
       "      <td>9578.000000</td>\n",
       "      <td>9578.000000</td>\n",
       "      <td>9578.000000</td>\n",
       "      <td>9578.000000</td>\n",
       "      <td>9578.000000</td>\n",
       "    </tr>\n",
       "    <tr>\n",
       "      <th>mean</th>\n",
       "      <td>0.804970</td>\n",
       "      <td>0.122640</td>\n",
       "      <td>319.089413</td>\n",
       "      <td>10.932117</td>\n",
       "      <td>12.606679</td>\n",
       "      <td>710.846314</td>\n",
       "      <td>4560.767197</td>\n",
       "      <td>1.691396e+04</td>\n",
       "      <td>46.799236</td>\n",
       "      <td>1.577469</td>\n",
       "      <td>0.163708</td>\n",
       "      <td>0.062122</td>\n",
       "      <td>0.160054</td>\n",
       "    </tr>\n",
       "    <tr>\n",
       "      <th>std</th>\n",
       "      <td>0.396245</td>\n",
       "      <td>0.026847</td>\n",
       "      <td>207.071301</td>\n",
       "      <td>0.614813</td>\n",
       "      <td>6.883970</td>\n",
       "      <td>37.970537</td>\n",
       "      <td>2496.930377</td>\n",
       "      <td>3.375619e+04</td>\n",
       "      <td>29.014417</td>\n",
       "      <td>2.200245</td>\n",
       "      <td>0.546215</td>\n",
       "      <td>0.262126</td>\n",
       "      <td>0.366676</td>\n",
       "    </tr>\n",
       "    <tr>\n",
       "      <th>min</th>\n",
       "      <td>0.000000</td>\n",
       "      <td>0.060000</td>\n",
       "      <td>15.670000</td>\n",
       "      <td>7.547502</td>\n",
       "      <td>0.000000</td>\n",
       "      <td>612.000000</td>\n",
       "      <td>178.958333</td>\n",
       "      <td>0.000000e+00</td>\n",
       "      <td>0.000000</td>\n",
       "      <td>0.000000</td>\n",
       "      <td>0.000000</td>\n",
       "      <td>0.000000</td>\n",
       "      <td>0.000000</td>\n",
       "    </tr>\n",
       "    <tr>\n",
       "      <th>25%</th>\n",
       "      <td>1.000000</td>\n",
       "      <td>0.103900</td>\n",
       "      <td>163.770000</td>\n",
       "      <td>10.558414</td>\n",
       "      <td>7.212500</td>\n",
       "      <td>682.000000</td>\n",
       "      <td>2820.000000</td>\n",
       "      <td>3.187000e+03</td>\n",
       "      <td>22.600000</td>\n",
       "      <td>0.000000</td>\n",
       "      <td>0.000000</td>\n",
       "      <td>0.000000</td>\n",
       "      <td>0.000000</td>\n",
       "    </tr>\n",
       "    <tr>\n",
       "      <th>50%</th>\n",
       "      <td>1.000000</td>\n",
       "      <td>0.122100</td>\n",
       "      <td>268.950000</td>\n",
       "      <td>10.928884</td>\n",
       "      <td>12.665000</td>\n",
       "      <td>707.000000</td>\n",
       "      <td>4139.958333</td>\n",
       "      <td>8.596000e+03</td>\n",
       "      <td>46.300000</td>\n",
       "      <td>1.000000</td>\n",
       "      <td>0.000000</td>\n",
       "      <td>0.000000</td>\n",
       "      <td>0.000000</td>\n",
       "    </tr>\n",
       "    <tr>\n",
       "      <th>75%</th>\n",
       "      <td>1.000000</td>\n",
       "      <td>0.140700</td>\n",
       "      <td>432.762500</td>\n",
       "      <td>11.291293</td>\n",
       "      <td>17.950000</td>\n",
       "      <td>737.000000</td>\n",
       "      <td>5730.000000</td>\n",
       "      <td>1.824950e+04</td>\n",
       "      <td>70.900000</td>\n",
       "      <td>2.000000</td>\n",
       "      <td>0.000000</td>\n",
       "      <td>0.000000</td>\n",
       "      <td>0.000000</td>\n",
       "    </tr>\n",
       "    <tr>\n",
       "      <th>max</th>\n",
       "      <td>1.000000</td>\n",
       "      <td>0.216400</td>\n",
       "      <td>940.140000</td>\n",
       "      <td>14.528354</td>\n",
       "      <td>29.960000</td>\n",
       "      <td>827.000000</td>\n",
       "      <td>17639.958330</td>\n",
       "      <td>1.207359e+06</td>\n",
       "      <td>119.000000</td>\n",
       "      <td>33.000000</td>\n",
       "      <td>13.000000</td>\n",
       "      <td>5.000000</td>\n",
       "      <td>1.000000</td>\n",
       "    </tr>\n",
       "  </tbody>\n",
       "</table>\n",
       "</div>"
      ],
      "text/plain": [
       "       credit.policy     int.rate  installment  log.annual.inc          dti  \\\n",
       "count    9578.000000  9578.000000  9578.000000     9578.000000  9578.000000   \n",
       "mean        0.804970     0.122640   319.089413       10.932117    12.606679   \n",
       "std         0.396245     0.026847   207.071301        0.614813     6.883970   \n",
       "min         0.000000     0.060000    15.670000        7.547502     0.000000   \n",
       "25%         1.000000     0.103900   163.770000       10.558414     7.212500   \n",
       "50%         1.000000     0.122100   268.950000       10.928884    12.665000   \n",
       "75%         1.000000     0.140700   432.762500       11.291293    17.950000   \n",
       "max         1.000000     0.216400   940.140000       14.528354    29.960000   \n",
       "\n",
       "              fico  days.with.cr.line     revol.bal   revol.util  \\\n",
       "count  9578.000000        9578.000000  9.578000e+03  9578.000000   \n",
       "mean    710.846314        4560.767197  1.691396e+04    46.799236   \n",
       "std      37.970537        2496.930377  3.375619e+04    29.014417   \n",
       "min     612.000000         178.958333  0.000000e+00     0.000000   \n",
       "25%     682.000000        2820.000000  3.187000e+03    22.600000   \n",
       "50%     707.000000        4139.958333  8.596000e+03    46.300000   \n",
       "75%     737.000000        5730.000000  1.824950e+04    70.900000   \n",
       "max     827.000000       17639.958330  1.207359e+06   119.000000   \n",
       "\n",
       "       inq.last.6mths  delinq.2yrs      pub.rec  not.fully.paid  \n",
       "count     9578.000000  9578.000000  9578.000000     9578.000000  \n",
       "mean         1.577469     0.163708     0.062122        0.160054  \n",
       "std          2.200245     0.546215     0.262126        0.366676  \n",
       "min          0.000000     0.000000     0.000000        0.000000  \n",
       "25%          0.000000     0.000000     0.000000        0.000000  \n",
       "50%          1.000000     0.000000     0.000000        0.000000  \n",
       "75%          2.000000     0.000000     0.000000        0.000000  \n",
       "max         33.000000    13.000000     5.000000        1.000000  "
      ]
     },
     "execution_count": 71,
     "metadata": {
      "tags": []
     },
     "output_type": "execute_result"
    }
   ],
   "source": [
    "loans.describe()"
   ]
  },
  {
   "cell_type": "markdown",
   "metadata": {
    "colab_type": "text",
    "id": "MHH5Nghd1_YF"
   },
   "source": [
    "### Check the info of the dataset"
   ]
  },
  {
   "cell_type": "code",
   "execution_count": 0,
   "metadata": {
    "colab": {
     "base_uri": "https://localhost:8080/",
     "height": 340
    },
    "colab_type": "code",
    "id": "A5Wq7rO61_YH",
    "outputId": "fe4c5fee-28ff-4267-ba8f-370c0e2a4411"
   },
   "outputs": [
    {
     "name": "stdout",
     "output_type": "stream",
     "text": [
      "<class 'pandas.core.frame.DataFrame'>\n",
      "RangeIndex: 9578 entries, 0 to 9577\n",
      "Data columns (total 14 columns):\n",
      "credit.policy        9578 non-null int64\n",
      "purpose              9578 non-null object\n",
      "int.rate             9578 non-null float64\n",
      "installment          9578 non-null float64\n",
      "log.annual.inc       9578 non-null float64\n",
      "dti                  9578 non-null float64\n",
      "fico                 9578 non-null int64\n",
      "days.with.cr.line    9578 non-null float64\n",
      "revol.bal            9578 non-null int64\n",
      "revol.util           9578 non-null float64\n",
      "inq.last.6mths       9578 non-null int64\n",
      "delinq.2yrs          9578 non-null int64\n",
      "pub.rec              9578 non-null int64\n",
      "not.fully.paid       9578 non-null int64\n",
      "dtypes: float64(6), int64(7), object(1)\n",
      "memory usage: 1.0+ MB\n"
     ]
    }
   ],
   "source": [
    "loans.info()"
   ]
  },
  {
   "cell_type": "markdown",
   "metadata": {
    "colab_type": "text",
    "id": "gA_SKPUS1_YM"
   },
   "source": [
    "### Code to check if there is any missing values present in the dataset."
   ]
  },
  {
   "cell_type": "code",
   "execution_count": 0,
   "metadata": {
    "colab": {
     "base_uri": "https://localhost:8080/",
     "height": 272
    },
    "colab_type": "code",
    "id": "s2H1l5u31_YN",
    "outputId": "4fd5c278-06a4-452e-dcb1-0a2194a119da"
   },
   "outputs": [
    {
     "data": {
      "text/plain": [
       "credit.policy        0\n",
       "purpose              0\n",
       "int.rate             0\n",
       "installment          0\n",
       "log.annual.inc       0\n",
       "dti                  0\n",
       "fico                 0\n",
       "days.with.cr.line    0\n",
       "revol.bal            0\n",
       "revol.util           0\n",
       "inq.last.6mths       0\n",
       "delinq.2yrs          0\n",
       "pub.rec              0\n",
       "not.fully.paid       0\n",
       "dtype: int64"
      ]
     },
     "execution_count": 73,
     "metadata": {
      "tags": []
     },
     "output_type": "execute_result"
    }
   ],
   "source": [
    "\n",
    "def missing_values():\n",
    "    return loans.isnull().sum()\n",
    "missing_values()"
   ]
  },
  {
   "cell_type": "markdown",
   "metadata": {
    "colab_type": "text",
    "id": "7sri2fPK1_YS"
   },
   "source": [
    "<b>No missing values in the dataset</b>"
   ]
  },
  {
   "cell_type": "markdown",
   "metadata": {
    "colab_type": "text",
    "id": "rwszlHZR1_YT"
   },
   "source": [
    "<a id=\"section31\"></a>\n",
    "\n",
    "<h3><b>3.1 Data Visualisation</b></h3>"
   ]
  },
  {
   "cell_type": "markdown",
   "metadata": {
    "colab_type": "text",
    "id": "NCJQKwqS1_YU"
   },
   "source": [
    "### Plotting a histogram of two FICO distribution on top of each other, one for each credit.policy"
   ]
  },
  {
   "cell_type": "code",
   "execution_count": 0,
   "metadata": {
    "colab": {
     "base_uri": "https://localhost:8080/",
     "height": 408
    },
    "colab_type": "code",
    "id": "hVTtleTS1_YV",
    "outputId": "e532d19e-7bdc-4996-f7a2-ff88495c9c1a"
   },
   "outputs": [
    {
     "data": {
      "image/png": "[encoded data removed]",
      "text/plain": [
       "<Figure size 720x432 with 1 Axes>"
      ]
     },
     "metadata": {
      "tags": []
     },
     "output_type": "display_data"
    }
   ],
   "source": [
    "import matplotlib.pyplot as plt\n",
    "def histogram():\n",
    "    plt.figure(figsize=(10,6))\n",
    "    loans[loans['credit.policy']==1]['fico'].hist(alpha=0.5\n",
    "                                ,color='blue',\n",
    "                                              bins=30,label='Credit.Policy=1')\n",
    "    loans[loans['credit.policy']==0]['fico'].hist(alpha=0.5,color='red',\n",
    "                                              bins=30,label='Credit.Policy=0')\n",
    "    plt.legend()\n",
    "    plt.xlabel('FICO')\n",
    "    \n",
    "histogram()"
   ]
  },
  {
   "cell_type": "markdown",
   "metadata": {
    "colab_type": "text",
    "id": "qgaZEWu81_YZ"
   },
   "source": [
    "<b>credit.policy: 1 if the customer meets the credit underwriting criteria of LendingClub.com, and 0 otherwise. \n",
    "FICO score is observed to be higher for Credit.Policy=1 (>650 to >800) and vise versa </b>"
   ]
  },
  {
   "cell_type": "markdown",
   "metadata": {
    "colab_type": "text",
    "id": "YZqJQlKe1_Ya"
   },
   "source": [
    "### Plotting a histogram of two FICO distribution on top of each other, one for each not.fully.paid"
   ]
  },
  {
   "cell_type": "code",
   "execution_count": 0,
   "metadata": {
    "colab": {
     "base_uri": "https://localhost:8080/",
     "height": 408
    },
    "colab_type": "code",
    "id": "67WJ9fV31_Yb",
    "outputId": "6f8d96c9-8a6c-4dda-da88-8a99e78cb8f1"
   },
   "outputs": [
    {
     "data": {
      "image/png": "[encoded data removed]",
      "text/plain": [
       "<Figure size 720x432 with 1 Axes>"
      ]
     },
     "metadata": {
      "tags": []
     },
     "output_type": "display_data"
    }
   ],
   "source": [
    "import matplotlib.pyplot as plt\n",
    "def histogram2():\n",
    "    plt.figure(figsize=(10,6))\n",
    "    loans[loans['not.fully.paid']==1]['fico'].hist(alpha=0.5\n",
    "                                ,color='blue',\n",
    "                                              bins=30,label='not.fully.paid=1')\n",
    "    loans[loans['not.fully.paid']==0]['fico'].hist(alpha=0.5,color='red',\n",
    "                                              bins=30,label='not.fully.paid=0')\n",
    "    plt.legend()\n",
    "    plt.xlabel('FICO')\n",
    "    \n",
    "                                              \n",
    "histogram2()"
   ]
  },
  {
   "cell_type": "markdown",
   "metadata": {
    "colab_type": "text",
    "id": "WSGWIvN91_Yf"
   },
   "source": [
    "<b>not.fully.paid=0 -> Paid Fully\n",
    "not.fully.paid=1 -> Not Paid Fully\n",
    "THE COUNT OF FULLY PAID WITH HIGHER FICO SCORE IS PRETTY HIGH THAN THE COUNT OF NOT PAID</b>"
   ]
  },
  {
   "cell_type": "markdown",
   "metadata": {
    "colab_type": "text",
    "id": "RByt7PzT1_Yg"
   },
   "source": [
    "### Using seaborn countplot show the counts of loans by purpose, with the color hue defined by not.fully.paid"
   ]
  },
  {
   "cell_type": "code",
   "execution_count": 0,
   "metadata": {
    "colab": {
     "base_uri": "https://localhost:8080/",
     "height": 478
    },
    "colab_type": "code",
    "id": "fFclMBTs1_Yh",
    "outputId": "2c065a00-fc83-4432-fe8f-a8ceba6294cd"
   },
   "outputs": [
    {
     "name": "stderr",
     "output_type": "stream",
     "text": [
      "/usr/local/lib/python3.6/dist-packages/seaborn/categorical.py:1468: FutureWarning: remove_na is deprecated and is a private function. Do not use.\n",
      "  stat_data = remove_na(group_data[hue_mask])\n"
     ]
    },
    {
     "data": {
      "image/png": "[encoded data removed]",
      "text/plain": [
       "<Figure size 792x504 with 1 Axes>"
      ]
     },
     "metadata": {
      "tags": []
     },
     "output_type": "display_data"
    }
   ],
   "source": [
    "import seaborn as sns\n",
    "def countPlot():\n",
    "    plt.figure(figsize=(11,7))\n",
    "    sns.countplot(x='purpose',hue='not.fully.paid',data=loans,palette='Set1')\n",
    "\n",
    "countPlot()"
   ]
  },
  {
   "cell_type": "markdown",
   "metadata": {
    "colab_type": "text",
    "id": "K_IYX7xe1_Yn"
   },
   "source": []
  },
  {
   "cell_type": "code",
   "execution_count": 0,
   "metadata": {
    "colab": {
     "base_uri": "https://localhost:8080/",
     "height": 182
    },
    "colab_type": "code",
    "id": "Ld4Pbvch1_Yp",
    "outputId": "cd4ff471-98aa-4819-dab7-3e4d72e5946a"
   },
   "outputs": [
    {
     "data": {
      "image/png": "[encoded data removed]",
      "text/plain": [
       "<Figure size 1440x360 with 7 Axes>"
      ]
     },
     "metadata": {
      "tags": []
     },
     "output_type": "display_data"
    }
   ],
   "source": [
    "import matplotlib.pyplot as plt\n",
    "def pieChart():\n",
    "    f,ax = plt.subplots(1,7,figsize=(20,5))\n",
    "    plt.rcParams['font.size'] = 10.0\n",
    "    unique_purpose=loans[\"purpose\"].unique()\n",
    "    \n",
    "    for i in range(0,len(unique_purpose)):\n",
    "        loans[\"not.fully.paid\"][loans[\"purpose\"]==unique_purpose[i]].value_counts().plot.pie(autopct='%1.1f%%',ax=ax[i],shadow=True)\n",
    "        ax[i].set_title(unique_purpose[i])\n",
    "        \n",
    "    \n",
    "pieChart()"
   ]
  },
  {
   "cell_type": "markdown",
   "metadata": {
    "colab_type": "text",
    "id": "ENO0Mojq1_Yw"
   },
   "source": [
    "<b>Its observed that SMALL BUSINESS'S have difficulty in repaying the loans than other purposes.</b>"
   ]
  },
  {
   "cell_type": "markdown",
   "metadata": {
    "colab_type": "text",
    "id": "xWex0sup1_Yy"
   },
   "source": [
    "### Using a seaborn countplot understand the trend between FICO score and interest rate"
   ]
  },
  {
   "cell_type": "code",
   "execution_count": 0,
   "metadata": {
    "colab": {
     "base_uri": "https://localhost:8080/",
     "height": 476
    },
    "colab_type": "code",
    "id": "EMACuQV71_Y1",
    "outputId": "52fc57bd-47af-4556-a4f1-044a256c7e90"
   },
   "outputs": [
    {
     "name": "stderr",
     "output_type": "stream",
     "text": [
      "/usr/local/lib/python3.6/dist-packages/seaborn/categorical.py:1468: FutureWarning: remove_na is deprecated and is a private function. Do not use.\n",
      "  stat_data = remove_na(group_data[hue_mask])\n"
     ]
    },
    {
     "data": {
      "image/png": "[encoded data removed]",
      "text/plain": [
       "<Figure size 792x504 with 1 Axes>"
      ]
     },
     "metadata": {
      "tags": []
     },
     "output_type": "display_data"
    }
   ],
   "source": [
    "import seaborn as sns\n",
    "def countPlot2():\n",
    "    # set plot figure size\n",
    "    # your code to create the countplot\n",
    "    plt.figure(figsize=(11,7))\n",
    "    sns.countplot(x='int.rate',hue='not.fully.paid',data=loans,palette='Set1')\n",
    "\n",
    "countPlot2()"
   ]
  },
  {
   "cell_type": "markdown",
   "metadata": {
    "colab_type": "text",
    "id": "54O1Co471_Y6"
   },
   "source": [
    "<a id=\"section32\"></a>\n",
    "<h2><b>3.2 Handling Categorical Variables through Dummification</b></h3>"
   ]
  },
  {
   "cell_type": "markdown",
   "metadata": {},
   "source": [
    "\n",
    "``` ['purpose'] ```\n",
    "- The purpose column is categorical. so transform them using dummy variables using pd.get_dummies."
   ]
  },
  {
   "cell_type": "code",
   "execution_count": 0,
   "metadata": {
    "colab": {},
    "colab_type": "code",
    "id": "CUwLcRwS1_Y7"
   },
   "outputs": [],
   "source": [
    "cat_feats = ['purpose']"
   ]
  },
  {
   "cell_type": "markdown",
   "metadata": {
    "colab_type": "text",
    "id": "J0xURxJw1_Y-"
   },
   "source": [
    "### Using pd.get_dummies create a fixed larger dataframe that has new feature columns with dummy variables."
   ]
  },
  {
   "cell_type": "code",
   "execution_count": 0,
   "metadata": {
    "colab": {},
    "colab_type": "code",
    "id": "ad1ApadL1_Y_"
   },
   "outputs": [],
   "source": [
    "final_data = pd.DataFrame()\n",
    "def dummification():\n",
    "    # create a new data frame final data with dummies of the categorical variables\n",
    "    final_data=pd.get_dummies(data=loans,columns=cat_feats,drop_first=True)\n",
    "    return final_data\n",
    "final_data = dummification()"
   ]
  },
  {
   "cell_type": "code",
   "execution_count": 0,
   "metadata": {
    "colab": {
     "base_uri": "https://localhost:8080/",
     "height": 1989
    },
    "colab_type": "code",
    "id": "G-RUo6-bFqih",
    "outputId": "bf7f65f6-186c-4f6b-9b91-21afaaeb1612"
   },
   "outputs": [
    {
     "data": {
      "text/html": [
       "<div>\n",
       "<style scoped>\n",
       "    .dataframe tbody tr th:only-of-type {\n",
       "        vertical-align: middle;\n",
       "    }\n",
       "\n",
       "    .dataframe tbody tr th {\n",
       "        vertical-align: top;\n",
       "    }\n",
       "\n",
       "    .dataframe thead th {\n",
       "        text-align: right;\n",
       "    }\n",
       "</style>\n",
       "<table border=\"1\" class=\"dataframe\">\n",
       "  <thead>\n",
       "    <tr style=\"text-align: right;\">\n",
       "      <th></th>\n",
       "      <th>credit.policy</th>\n",
       "      <th>int.rate</th>\n",
       "      <th>installment</th>\n",
       "      <th>log.annual.inc</th>\n",
       "      <th>dti</th>\n",
       "      <th>fico</th>\n",
       "      <th>days.with.cr.line</th>\n",
       "      <th>revol.bal</th>\n",
       "      <th>revol.util</th>\n",
       "      <th>inq.last.6mths</th>\n",
       "      <th>delinq.2yrs</th>\n",
       "      <th>pub.rec</th>\n",
       "      <th>not.fully.paid</th>\n",
       "      <th>purpose_credit_card</th>\n",
       "      <th>purpose_debt_consolidation</th>\n",
       "      <th>purpose_educational</th>\n",
       "      <th>purpose_home_improvement</th>\n",
       "      <th>purpose_major_purchase</th>\n",
       "      <th>purpose_small_business</th>\n",
       "    </tr>\n",
       "  </thead>\n",
       "  <tbody>\n",
       "    <tr>\n",
       "      <th>0</th>\n",
       "      <td>1</td>\n",
       "      <td>0.1189</td>\n",
       "      <td>829.10</td>\n",
       "      <td>11.350407</td>\n",
       "      <td>19.48</td>\n",
       "      <td>737</td>\n",
       "      <td>5639.958333</td>\n",
       "      <td>28854</td>\n",
       "      <td>52.1</td>\n",
       "      <td>0</td>\n",
       "      <td>0</td>\n",
       "      <td>0</td>\n",
       "      <td>0</td>\n",
       "      <td>0</td>\n",
       "      <td>1</td>\n",
       "      <td>0</td>\n",
       "      <td>0</td>\n",
       "      <td>0</td>\n",
       "      <td>0</td>\n",
       "    </tr>\n",
       "    <tr>\n",
       "      <th>1</th>\n",
       "      <td>1</td>\n",
       "      <td>0.1071</td>\n",
       "      <td>228.22</td>\n",
       "      <td>11.082143</td>\n",
       "      <td>14.29</td>\n",
       "      <td>707</td>\n",
       "      <td>2760.000000</td>\n",
       "      <td>33623</td>\n",
       "      <td>76.7</td>\n",
       "      <td>0</td>\n",
       "      <td>0</td>\n",
       "      <td>0</td>\n",
       "      <td>0</td>\n",
       "      <td>1</td>\n",
       "      <td>0</td>\n",
       "      <td>0</td>\n",
       "      <td>0</td>\n",
       "      <td>0</td>\n",
       "      <td>0</td>\n",
       "    </tr>\n",
       "    <tr>\n",
       "      <th>2</th>\n",
       "      <td>1</td>\n",
       "      <td>0.1357</td>\n",
       "      <td>366.86</td>\n",
       "      <td>10.373491</td>\n",
       "      <td>11.63</td>\n",
       "      <td>682</td>\n",
       "      <td>4710.000000</td>\n",
       "      <td>3511</td>\n",
       "      <td>25.6</td>\n",
       "      <td>1</td>\n",
       "      <td>0</td>\n",
       "      <td>0</td>\n",
       "      <td>0</td>\n",
       "      <td>0</td>\n",
       "      <td>1</td>\n",
       "      <td>0</td>\n",
       "      <td>0</td>\n",
       "      <td>0</td>\n",
       "      <td>0</td>\n",
       "    </tr>\n",
       "    <tr>\n",
       "      <th>3</th>\n",
       "      <td>1</td>\n",
       "      <td>0.1008</td>\n",
       "      <td>162.34</td>\n",
       "      <td>11.350407</td>\n",
       "      <td>8.10</td>\n",
       "      <td>712</td>\n",
       "      <td>2699.958333</td>\n",
       "      <td>33667</td>\n",
       "      <td>73.2</td>\n",
       "      <td>1</td>\n",
       "      <td>0</td>\n",
       "      <td>0</td>\n",
       "      <td>0</td>\n",
       "      <td>0</td>\n",
       "      <td>1</td>\n",
       "      <td>0</td>\n",
       "      <td>0</td>\n",
       "      <td>0</td>\n",
       "      <td>0</td>\n",
       "    </tr>\n",
       "    <tr>\n",
       "      <th>4</th>\n",
       "      <td>1</td>\n",
       "      <td>0.1426</td>\n",
       "      <td>102.92</td>\n",
       "      <td>11.299732</td>\n",
       "      <td>14.97</td>\n",
       "      <td>667</td>\n",
       "      <td>4066.000000</td>\n",
       "      <td>4740</td>\n",
       "      <td>39.5</td>\n",
       "      <td>0</td>\n",
       "      <td>1</td>\n",
       "      <td>0</td>\n",
       "      <td>0</td>\n",
       "      <td>1</td>\n",
       "      <td>0</td>\n",
       "      <td>0</td>\n",
       "      <td>0</td>\n",
       "      <td>0</td>\n",
       "      <td>0</td>\n",
       "    </tr>\n",
       "    <tr>\n",
       "      <th>5</th>\n",
       "      <td>1</td>\n",
       "      <td>0.0788</td>\n",
       "      <td>125.13</td>\n",
       "      <td>11.904968</td>\n",
       "      <td>16.98</td>\n",
       "      <td>727</td>\n",
       "      <td>6120.041667</td>\n",
       "      <td>50807</td>\n",
       "      <td>51.0</td>\n",
       "      <td>0</td>\n",
       "      <td>0</td>\n",
       "      <td>0</td>\n",
       "      <td>0</td>\n",
       "      <td>1</td>\n",
       "      <td>0</td>\n",
       "      <td>0</td>\n",
       "      <td>0</td>\n",
       "      <td>0</td>\n",
       "      <td>0</td>\n",
       "    </tr>\n",
       "    <tr>\n",
       "      <th>6</th>\n",
       "      <td>1</td>\n",
       "      <td>0.1496</td>\n",
       "      <td>194.02</td>\n",
       "      <td>10.714418</td>\n",
       "      <td>4.00</td>\n",
       "      <td>667</td>\n",
       "      <td>3180.041667</td>\n",
       "      <td>3839</td>\n",
       "      <td>76.8</td>\n",
       "      <td>0</td>\n",
       "      <td>0</td>\n",
       "      <td>1</td>\n",
       "      <td>1</td>\n",
       "      <td>0</td>\n",
       "      <td>1</td>\n",
       "      <td>0</td>\n",
       "      <td>0</td>\n",
       "      <td>0</td>\n",
       "      <td>0</td>\n",
       "    </tr>\n",
       "    <tr>\n",
       "      <th>7</th>\n",
       "      <td>1</td>\n",
       "      <td>0.1114</td>\n",
       "      <td>131.22</td>\n",
       "      <td>11.002100</td>\n",
       "      <td>11.08</td>\n",
       "      <td>722</td>\n",
       "      <td>5116.000000</td>\n",
       "      <td>24220</td>\n",
       "      <td>68.6</td>\n",
       "      <td>0</td>\n",
       "      <td>0</td>\n",
       "      <td>0</td>\n",
       "      <td>1</td>\n",
       "      <td>0</td>\n",
       "      <td>0</td>\n",
       "      <td>0</td>\n",
       "      <td>0</td>\n",
       "      <td>0</td>\n",
       "      <td>0</td>\n",
       "    </tr>\n",
       "    <tr>\n",
       "      <th>8</th>\n",
       "      <td>1</td>\n",
       "      <td>0.1134</td>\n",
       "      <td>87.19</td>\n",
       "      <td>11.407565</td>\n",
       "      <td>17.25</td>\n",
       "      <td>682</td>\n",
       "      <td>3989.000000</td>\n",
       "      <td>69909</td>\n",
       "      <td>51.1</td>\n",
       "      <td>1</td>\n",
       "      <td>0</td>\n",
       "      <td>0</td>\n",
       "      <td>0</td>\n",
       "      <td>0</td>\n",
       "      <td>0</td>\n",
       "      <td>0</td>\n",
       "      <td>1</td>\n",
       "      <td>0</td>\n",
       "      <td>0</td>\n",
       "    </tr>\n",
       "    <tr>\n",
       "      <th>9</th>\n",
       "      <td>1</td>\n",
       "      <td>0.1221</td>\n",
       "      <td>84.12</td>\n",
       "      <td>10.203592</td>\n",
       "      <td>10.00</td>\n",
       "      <td>707</td>\n",
       "      <td>2730.041667</td>\n",
       "      <td>5630</td>\n",
       "      <td>23.0</td>\n",
       "      <td>1</td>\n",
       "      <td>0</td>\n",
       "      <td>0</td>\n",
       "      <td>0</td>\n",
       "      <td>0</td>\n",
       "      <td>1</td>\n",
       "      <td>0</td>\n",
       "      <td>0</td>\n",
       "      <td>0</td>\n",
       "      <td>0</td>\n",
       "    </tr>\n",
       "    <tr>\n",
       "      <th>10</th>\n",
       "      <td>1</td>\n",
       "      <td>0.1347</td>\n",
       "      <td>360.43</td>\n",
       "      <td>10.434116</td>\n",
       "      <td>22.09</td>\n",
       "      <td>677</td>\n",
       "      <td>6713.041667</td>\n",
       "      <td>13846</td>\n",
       "      <td>71.0</td>\n",
       "      <td>2</td>\n",
       "      <td>0</td>\n",
       "      <td>1</td>\n",
       "      <td>0</td>\n",
       "      <td>0</td>\n",
       "      <td>1</td>\n",
       "      <td>0</td>\n",
       "      <td>0</td>\n",
       "      <td>0</td>\n",
       "      <td>0</td>\n",
       "    </tr>\n",
       "    <tr>\n",
       "      <th>11</th>\n",
       "      <td>1</td>\n",
       "      <td>0.1324</td>\n",
       "      <td>253.58</td>\n",
       "      <td>11.835009</td>\n",
       "      <td>9.16</td>\n",
       "      <td>662</td>\n",
       "      <td>4298.000000</td>\n",
       "      <td>5122</td>\n",
       "      <td>18.2</td>\n",
       "      <td>2</td>\n",
       "      <td>1</td>\n",
       "      <td>0</td>\n",
       "      <td>0</td>\n",
       "      <td>0</td>\n",
       "      <td>1</td>\n",
       "      <td>0</td>\n",
       "      <td>0</td>\n",
       "      <td>0</td>\n",
       "      <td>0</td>\n",
       "    </tr>\n",
       "    <tr>\n",
       "      <th>12</th>\n",
       "      <td>1</td>\n",
       "      <td>0.0859</td>\n",
       "      <td>316.11</td>\n",
       "      <td>10.933107</td>\n",
       "      <td>15.49</td>\n",
       "      <td>767</td>\n",
       "      <td>6519.958333</td>\n",
       "      <td>6068</td>\n",
       "      <td>16.7</td>\n",
       "      <td>0</td>\n",
       "      <td>0</td>\n",
       "      <td>0</td>\n",
       "      <td>0</td>\n",
       "      <td>0</td>\n",
       "      <td>1</td>\n",
       "      <td>0</td>\n",
       "      <td>0</td>\n",
       "      <td>0</td>\n",
       "      <td>0</td>\n",
       "    </tr>\n",
       "    <tr>\n",
       "      <th>13</th>\n",
       "      <td>1</td>\n",
       "      <td>0.0714</td>\n",
       "      <td>92.82</td>\n",
       "      <td>11.512925</td>\n",
       "      <td>6.50</td>\n",
       "      <td>747</td>\n",
       "      <td>4384.000000</td>\n",
       "      <td>3021</td>\n",
       "      <td>4.8</td>\n",
       "      <td>0</td>\n",
       "      <td>1</td>\n",
       "      <td>0</td>\n",
       "      <td>0</td>\n",
       "      <td>0</td>\n",
       "      <td>0</td>\n",
       "      <td>0</td>\n",
       "      <td>0</td>\n",
       "      <td>0</td>\n",
       "      <td>1</td>\n",
       "    </tr>\n",
       "    <tr>\n",
       "      <th>14</th>\n",
       "      <td>1</td>\n",
       "      <td>0.0863</td>\n",
       "      <td>209.54</td>\n",
       "      <td>9.487972</td>\n",
       "      <td>9.73</td>\n",
       "      <td>727</td>\n",
       "      <td>1559.958333</td>\n",
       "      <td>6282</td>\n",
       "      <td>44.6</td>\n",
       "      <td>0</td>\n",
       "      <td>0</td>\n",
       "      <td>0</td>\n",
       "      <td>0</td>\n",
       "      <td>0</td>\n",
       "      <td>1</td>\n",
       "      <td>0</td>\n",
       "      <td>0</td>\n",
       "      <td>0</td>\n",
       "      <td>0</td>\n",
       "    </tr>\n",
       "    <tr>\n",
       "      <th>15</th>\n",
       "      <td>1</td>\n",
       "      <td>0.1103</td>\n",
       "      <td>327.53</td>\n",
       "      <td>10.738915</td>\n",
       "      <td>13.04</td>\n",
       "      <td>702</td>\n",
       "      <td>8159.958333</td>\n",
       "      <td>5394</td>\n",
       "      <td>53.4</td>\n",
       "      <td>1</td>\n",
       "      <td>0</td>\n",
       "      <td>0</td>\n",
       "      <td>0</td>\n",
       "      <td>0</td>\n",
       "      <td>0</td>\n",
       "      <td>0</td>\n",
       "      <td>0</td>\n",
       "      <td>1</td>\n",
       "      <td>0</td>\n",
       "    </tr>\n",
       "    <tr>\n",
       "      <th>16</th>\n",
       "      <td>1</td>\n",
       "      <td>0.1317</td>\n",
       "      <td>77.69</td>\n",
       "      <td>10.522773</td>\n",
       "      <td>2.26</td>\n",
       "      <td>672</td>\n",
       "      <td>3895.958333</td>\n",
       "      <td>2211</td>\n",
       "      <td>88.4</td>\n",
       "      <td>0</td>\n",
       "      <td>0</td>\n",
       "      <td>0</td>\n",
       "      <td>0</td>\n",
       "      <td>0</td>\n",
       "      <td>0</td>\n",
       "      <td>0</td>\n",
       "      <td>0</td>\n",
       "      <td>0</td>\n",
       "      <td>0</td>\n",
       "    </tr>\n",
       "    <tr>\n",
       "      <th>17</th>\n",
       "      <td>1</td>\n",
       "      <td>0.0894</td>\n",
       "      <td>476.58</td>\n",
       "      <td>11.608236</td>\n",
       "      <td>7.07</td>\n",
       "      <td>797</td>\n",
       "      <td>6510.958333</td>\n",
       "      <td>7586</td>\n",
       "      <td>52.7</td>\n",
       "      <td>1</td>\n",
       "      <td>0</td>\n",
       "      <td>0</td>\n",
       "      <td>0</td>\n",
       "      <td>1</td>\n",
       "      <td>0</td>\n",
       "      <td>0</td>\n",
       "      <td>0</td>\n",
       "      <td>0</td>\n",
       "      <td>0</td>\n",
       "    </tr>\n",
       "    <tr>\n",
       "      <th>18</th>\n",
       "      <td>1</td>\n",
       "      <td>0.1039</td>\n",
       "      <td>584.12</td>\n",
       "      <td>10.491274</td>\n",
       "      <td>3.80</td>\n",
       "      <td>712</td>\n",
       "      <td>2760.000000</td>\n",
       "      <td>8311</td>\n",
       "      <td>59.8</td>\n",
       "      <td>0</td>\n",
       "      <td>0</td>\n",
       "      <td>0</td>\n",
       "      <td>0</td>\n",
       "      <td>0</td>\n",
       "      <td>1</td>\n",
       "      <td>0</td>\n",
       "      <td>0</td>\n",
       "      <td>0</td>\n",
       "      <td>0</td>\n",
       "    </tr>\n",
       "    <tr>\n",
       "      <th>19</th>\n",
       "      <td>1</td>\n",
       "      <td>0.1513</td>\n",
       "      <td>173.65</td>\n",
       "      <td>11.002100</td>\n",
       "      <td>2.74</td>\n",
       "      <td>667</td>\n",
       "      <td>1126.958333</td>\n",
       "      <td>591</td>\n",
       "      <td>84.4</td>\n",
       "      <td>3</td>\n",
       "      <td>0</td>\n",
       "      <td>0</td>\n",
       "      <td>0</td>\n",
       "      <td>0</td>\n",
       "      <td>0</td>\n",
       "      <td>0</td>\n",
       "      <td>0</td>\n",
       "      <td>1</td>\n",
       "      <td>0</td>\n",
       "    </tr>\n",
       "    <tr>\n",
       "      <th>20</th>\n",
       "      <td>1</td>\n",
       "      <td>0.0800</td>\n",
       "      <td>188.02</td>\n",
       "      <td>11.225243</td>\n",
       "      <td>16.08</td>\n",
       "      <td>772</td>\n",
       "      <td>4888.958333</td>\n",
       "      <td>29797</td>\n",
       "      <td>23.2</td>\n",
       "      <td>1</td>\n",
       "      <td>0</td>\n",
       "      <td>0</td>\n",
       "      <td>0</td>\n",
       "      <td>0</td>\n",
       "      <td>0</td>\n",
       "      <td>0</td>\n",
       "      <td>0</td>\n",
       "      <td>0</td>\n",
       "      <td>0</td>\n",
       "    </tr>\n",
       "    <tr>\n",
       "      <th>21</th>\n",
       "      <td>1</td>\n",
       "      <td>0.0863</td>\n",
       "      <td>474.42</td>\n",
       "      <td>10.819778</td>\n",
       "      <td>2.59</td>\n",
       "      <td>797</td>\n",
       "      <td>11951.000000</td>\n",
       "      <td>5656</td>\n",
       "      <td>27.6</td>\n",
       "      <td>0</td>\n",
       "      <td>0</td>\n",
       "      <td>0</td>\n",
       "      <td>0</td>\n",
       "      <td>0</td>\n",
       "      <td>0</td>\n",
       "      <td>0</td>\n",
       "      <td>0</td>\n",
       "      <td>0</td>\n",
       "      <td>0</td>\n",
       "    </tr>\n",
       "    <tr>\n",
       "      <th>22</th>\n",
       "      <td>1</td>\n",
       "      <td>0.1355</td>\n",
       "      <td>339.60</td>\n",
       "      <td>11.512925</td>\n",
       "      <td>7.94</td>\n",
       "      <td>662</td>\n",
       "      <td>1939.958333</td>\n",
       "      <td>21162</td>\n",
       "      <td>57.7</td>\n",
       "      <td>0</td>\n",
       "      <td>0</td>\n",
       "      <td>0</td>\n",
       "      <td>0</td>\n",
       "      <td>1</td>\n",
       "      <td>0</td>\n",
       "      <td>0</td>\n",
       "      <td>0</td>\n",
       "      <td>0</td>\n",
       "      <td>0</td>\n",
       "    </tr>\n",
       "    <tr>\n",
       "      <th>23</th>\n",
       "      <td>1</td>\n",
       "      <td>0.0788</td>\n",
       "      <td>484.85</td>\n",
       "      <td>11.736069</td>\n",
       "      <td>7.05</td>\n",
       "      <td>782</td>\n",
       "      <td>5640.041667</td>\n",
       "      <td>16931</td>\n",
       "      <td>34.6</td>\n",
       "      <td>1</td>\n",
       "      <td>0</td>\n",
       "      <td>0</td>\n",
       "      <td>0</td>\n",
       "      <td>1</td>\n",
       "      <td>0</td>\n",
       "      <td>0</td>\n",
       "      <td>0</td>\n",
       "      <td>0</td>\n",
       "      <td>0</td>\n",
       "    </tr>\n",
       "    <tr>\n",
       "      <th>24</th>\n",
       "      <td>1</td>\n",
       "      <td>0.1229</td>\n",
       "      <td>320.19</td>\n",
       "      <td>11.264464</td>\n",
       "      <td>8.80</td>\n",
       "      <td>672</td>\n",
       "      <td>3760.958333</td>\n",
       "      <td>4822</td>\n",
       "      <td>58.1</td>\n",
       "      <td>0</td>\n",
       "      <td>0</td>\n",
       "      <td>1</td>\n",
       "      <td>0</td>\n",
       "      <td>0</td>\n",
       "      <td>1</td>\n",
       "      <td>0</td>\n",
       "      <td>0</td>\n",
       "      <td>0</td>\n",
       "      <td>0</td>\n",
       "    </tr>\n",
       "    <tr>\n",
       "      <th>25</th>\n",
       "      <td>1</td>\n",
       "      <td>0.0901</td>\n",
       "      <td>159.03</td>\n",
       "      <td>12.429216</td>\n",
       "      <td>10.00</td>\n",
       "      <td>712</td>\n",
       "      <td>1553.958333</td>\n",
       "      <td>14354</td>\n",
       "      <td>36.6</td>\n",
       "      <td>0</td>\n",
       "      <td>2</td>\n",
       "      <td>0</td>\n",
       "      <td>0</td>\n",
       "      <td>0</td>\n",
       "      <td>0</td>\n",
       "      <td>0</td>\n",
       "      <td>0</td>\n",
       "      <td>0</td>\n",
       "      <td>0</td>\n",
       "    </tr>\n",
       "    <tr>\n",
       "      <th>26</th>\n",
       "      <td>1</td>\n",
       "      <td>0.0743</td>\n",
       "      <td>155.38</td>\n",
       "      <td>11.082143</td>\n",
       "      <td>0.28</td>\n",
       "      <td>802</td>\n",
       "      <td>4649.958333</td>\n",
       "      <td>1576</td>\n",
       "      <td>5.7</td>\n",
       "      <td>1</td>\n",
       "      <td>0</td>\n",
       "      <td>0</td>\n",
       "      <td>0</td>\n",
       "      <td>0</td>\n",
       "      <td>0</td>\n",
       "      <td>0</td>\n",
       "      <td>0</td>\n",
       "      <td>0</td>\n",
       "      <td>0</td>\n",
       "    </tr>\n",
       "    <tr>\n",
       "      <th>27</th>\n",
       "      <td>1</td>\n",
       "      <td>0.1375</td>\n",
       "      <td>255.43</td>\n",
       "      <td>9.998798</td>\n",
       "      <td>14.29</td>\n",
       "      <td>662</td>\n",
       "      <td>1318.958333</td>\n",
       "      <td>4175</td>\n",
       "      <td>51.5</td>\n",
       "      <td>0</td>\n",
       "      <td>1</td>\n",
       "      <td>0</td>\n",
       "      <td>0</td>\n",
       "      <td>0</td>\n",
       "      <td>1</td>\n",
       "      <td>0</td>\n",
       "      <td>0</td>\n",
       "      <td>0</td>\n",
       "      <td>0</td>\n",
       "    </tr>\n",
       "    <tr>\n",
       "      <th>28</th>\n",
       "      <td>1</td>\n",
       "      <td>0.0743</td>\n",
       "      <td>155.38</td>\n",
       "      <td>12.206073</td>\n",
       "      <td>0.28</td>\n",
       "      <td>772</td>\n",
       "      <td>4516.958333</td>\n",
       "      <td>3164</td>\n",
       "      <td>13.7</td>\n",
       "      <td>0</td>\n",
       "      <td>0</td>\n",
       "      <td>0</td>\n",
       "      <td>0</td>\n",
       "      <td>0</td>\n",
       "      <td>0</td>\n",
       "      <td>0</td>\n",
       "      <td>0</td>\n",
       "      <td>0</td>\n",
       "      <td>0</td>\n",
       "    </tr>\n",
       "    <tr>\n",
       "      <th>29</th>\n",
       "      <td>1</td>\n",
       "      <td>0.0743</td>\n",
       "      <td>155.38</td>\n",
       "      <td>12.206073</td>\n",
       "      <td>3.72</td>\n",
       "      <td>812</td>\n",
       "      <td>6778.958333</td>\n",
       "      <td>85607</td>\n",
       "      <td>0.7</td>\n",
       "      <td>0</td>\n",
       "      <td>0</td>\n",
       "      <td>0</td>\n",
       "      <td>0</td>\n",
       "      <td>0</td>\n",
       "      <td>0</td>\n",
       "      <td>0</td>\n",
       "      <td>0</td>\n",
       "      <td>0</td>\n",
       "      <td>0</td>\n",
       "    </tr>\n",
       "    <tr>\n",
       "      <th>...</th>\n",
       "      <td>...</td>\n",
       "      <td>...</td>\n",
       "      <td>...</td>\n",
       "      <td>...</td>\n",
       "      <td>...</td>\n",
       "      <td>...</td>\n",
       "      <td>...</td>\n",
       "      <td>...</td>\n",
       "      <td>...</td>\n",
       "      <td>...</td>\n",
       "      <td>...</td>\n",
       "      <td>...</td>\n",
       "      <td>...</td>\n",
       "      <td>...</td>\n",
       "      <td>...</td>\n",
       "      <td>...</td>\n",
       "      <td>...</td>\n",
       "      <td>...</td>\n",
       "      <td>...</td>\n",
       "    </tr>\n",
       "    <tr>\n",
       "      <th>9548</th>\n",
       "      <td>0</td>\n",
       "      <td>0.1607</td>\n",
       "      <td>87.99</td>\n",
       "      <td>10.778956</td>\n",
       "      <td>14.20</td>\n",
       "      <td>667</td>\n",
       "      <td>4080.000000</td>\n",
       "      <td>1530</td>\n",
       "      <td>36.4</td>\n",
       "      <td>7</td>\n",
       "      <td>0</td>\n",
       "      <td>0</td>\n",
       "      <td>1</td>\n",
       "      <td>0</td>\n",
       "      <td>0</td>\n",
       "      <td>0</td>\n",
       "      <td>1</td>\n",
       "      <td>0</td>\n",
       "      <td>0</td>\n",
       "    </tr>\n",
       "    <tr>\n",
       "      <th>9549</th>\n",
       "      <td>0</td>\n",
       "      <td>0.2164</td>\n",
       "      <td>729.70</td>\n",
       "      <td>11.877569</td>\n",
       "      <td>8.63</td>\n",
       "      <td>667</td>\n",
       "      <td>8280.041667</td>\n",
       "      <td>55442</td>\n",
       "      <td>66.9</td>\n",
       "      <td>9</td>\n",
       "      <td>0</td>\n",
       "      <td>1</td>\n",
       "      <td>1</td>\n",
       "      <td>0</td>\n",
       "      <td>0</td>\n",
       "      <td>0</td>\n",
       "      <td>1</td>\n",
       "      <td>0</td>\n",
       "      <td>0</td>\n",
       "    </tr>\n",
       "    <tr>\n",
       "      <th>9550</th>\n",
       "      <td>0</td>\n",
       "      <td>0.1459</td>\n",
       "      <td>137.86</td>\n",
       "      <td>10.085809</td>\n",
       "      <td>1.15</td>\n",
       "      <td>732</td>\n",
       "      <td>1230.041667</td>\n",
       "      <td>972</td>\n",
       "      <td>11.3</td>\n",
       "      <td>5</td>\n",
       "      <td>0</td>\n",
       "      <td>0</td>\n",
       "      <td>0</td>\n",
       "      <td>0</td>\n",
       "      <td>0</td>\n",
       "      <td>0</td>\n",
       "      <td>0</td>\n",
       "      <td>0</td>\n",
       "      <td>0</td>\n",
       "    </tr>\n",
       "    <tr>\n",
       "      <th>9551</th>\n",
       "      <td>0</td>\n",
       "      <td>0.1348</td>\n",
       "      <td>508.87</td>\n",
       "      <td>11.736069</td>\n",
       "      <td>16.85</td>\n",
       "      <td>707</td>\n",
       "      <td>7440.041667</td>\n",
       "      <td>206877</td>\n",
       "      <td>92.5</td>\n",
       "      <td>1</td>\n",
       "      <td>0</td>\n",
       "      <td>0</td>\n",
       "      <td>1</td>\n",
       "      <td>0</td>\n",
       "      <td>0</td>\n",
       "      <td>0</td>\n",
       "      <td>1</td>\n",
       "      <td>0</td>\n",
       "      <td>0</td>\n",
       "    </tr>\n",
       "    <tr>\n",
       "      <th>9552</th>\n",
       "      <td>0</td>\n",
       "      <td>0.1311</td>\n",
       "      <td>337.45</td>\n",
       "      <td>10.691945</td>\n",
       "      <td>23.62</td>\n",
       "      <td>702</td>\n",
       "      <td>3780.041667</td>\n",
       "      <td>6255</td>\n",
       "      <td>56.9</td>\n",
       "      <td>5</td>\n",
       "      <td>2</td>\n",
       "      <td>0</td>\n",
       "      <td>0</td>\n",
       "      <td>0</td>\n",
       "      <td>1</td>\n",
       "      <td>0</td>\n",
       "      <td>0</td>\n",
       "      <td>0</td>\n",
       "      <td>0</td>\n",
       "    </tr>\n",
       "    <tr>\n",
       "      <th>9553</th>\n",
       "      <td>0</td>\n",
       "      <td>0.1385</td>\n",
       "      <td>545.67</td>\n",
       "      <td>11.775290</td>\n",
       "      <td>10.80</td>\n",
       "      <td>697</td>\n",
       "      <td>4110.000000</td>\n",
       "      <td>197716</td>\n",
       "      <td>74.9</td>\n",
       "      <td>4</td>\n",
       "      <td>0</td>\n",
       "      <td>0</td>\n",
       "      <td>0</td>\n",
       "      <td>0</td>\n",
       "      <td>1</td>\n",
       "      <td>0</td>\n",
       "      <td>0</td>\n",
       "      <td>0</td>\n",
       "      <td>0</td>\n",
       "    </tr>\n",
       "    <tr>\n",
       "      <th>9554</th>\n",
       "      <td>0</td>\n",
       "      <td>0.1533</td>\n",
       "      <td>870.71</td>\n",
       "      <td>11.842229</td>\n",
       "      <td>16.16</td>\n",
       "      <td>707</td>\n",
       "      <td>4230.041667</td>\n",
       "      <td>56909</td>\n",
       "      <td>49.8</td>\n",
       "      <td>5</td>\n",
       "      <td>0</td>\n",
       "      <td>0</td>\n",
       "      <td>0</td>\n",
       "      <td>0</td>\n",
       "      <td>0</td>\n",
       "      <td>0</td>\n",
       "      <td>0</td>\n",
       "      <td>0</td>\n",
       "      <td>1</td>\n",
       "    </tr>\n",
       "    <tr>\n",
       "      <th>9555</th>\n",
       "      <td>0</td>\n",
       "      <td>0.1311</td>\n",
       "      <td>674.90</td>\n",
       "      <td>12.292250</td>\n",
       "      <td>9.94</td>\n",
       "      <td>717</td>\n",
       "      <td>5730.041667</td>\n",
       "      <td>39576</td>\n",
       "      <td>27.7</td>\n",
       "      <td>5</td>\n",
       "      <td>0</td>\n",
       "      <td>0</td>\n",
       "      <td>1</td>\n",
       "      <td>0</td>\n",
       "      <td>0</td>\n",
       "      <td>0</td>\n",
       "      <td>1</td>\n",
       "      <td>0</td>\n",
       "      <td>0</td>\n",
       "    </tr>\n",
       "    <tr>\n",
       "      <th>9556</th>\n",
       "      <td>0</td>\n",
       "      <td>0.1385</td>\n",
       "      <td>136.42</td>\n",
       "      <td>11.002100</td>\n",
       "      <td>18.18</td>\n",
       "      <td>677</td>\n",
       "      <td>3423.041667</td>\n",
       "      <td>15301</td>\n",
       "      <td>85.0</td>\n",
       "      <td>4</td>\n",
       "      <td>0</td>\n",
       "      <td>0</td>\n",
       "      <td>0</td>\n",
       "      <td>0</td>\n",
       "      <td>1</td>\n",
       "      <td>0</td>\n",
       "      <td>0</td>\n",
       "      <td>0</td>\n",
       "      <td>0</td>\n",
       "    </tr>\n",
       "    <tr>\n",
       "      <th>9557</th>\n",
       "      <td>0</td>\n",
       "      <td>0.1025</td>\n",
       "      <td>466.35</td>\n",
       "      <td>12.206073</td>\n",
       "      <td>13.97</td>\n",
       "      <td>722</td>\n",
       "      <td>6120.041667</td>\n",
       "      <td>338935</td>\n",
       "      <td>78.3</td>\n",
       "      <td>2</td>\n",
       "      <td>0</td>\n",
       "      <td>0</td>\n",
       "      <td>0</td>\n",
       "      <td>1</td>\n",
       "      <td>0</td>\n",
       "      <td>0</td>\n",
       "      <td>0</td>\n",
       "      <td>0</td>\n",
       "      <td>0</td>\n",
       "    </tr>\n",
       "    <tr>\n",
       "      <th>9558</th>\n",
       "      <td>0</td>\n",
       "      <td>0.1533</td>\n",
       "      <td>696.57</td>\n",
       "      <td>11.805595</td>\n",
       "      <td>17.21</td>\n",
       "      <td>682</td>\n",
       "      <td>2790.041667</td>\n",
       "      <td>38578</td>\n",
       "      <td>86.9</td>\n",
       "      <td>4</td>\n",
       "      <td>0</td>\n",
       "      <td>0</td>\n",
       "      <td>0</td>\n",
       "      <td>0</td>\n",
       "      <td>1</td>\n",
       "      <td>0</td>\n",
       "      <td>0</td>\n",
       "      <td>0</td>\n",
       "      <td>0</td>\n",
       "    </tr>\n",
       "    <tr>\n",
       "      <th>9559</th>\n",
       "      <td>0</td>\n",
       "      <td>0.1273</td>\n",
       "      <td>688.11</td>\n",
       "      <td>11.314475</td>\n",
       "      <td>21.13</td>\n",
       "      <td>732</td>\n",
       "      <td>5881.000000</td>\n",
       "      <td>35227</td>\n",
       "      <td>54.3</td>\n",
       "      <td>5</td>\n",
       "      <td>0</td>\n",
       "      <td>0</td>\n",
       "      <td>0</td>\n",
       "      <td>1</td>\n",
       "      <td>0</td>\n",
       "      <td>0</td>\n",
       "      <td>0</td>\n",
       "      <td>0</td>\n",
       "      <td>0</td>\n",
       "    </tr>\n",
       "    <tr>\n",
       "      <th>9560</th>\n",
       "      <td>0</td>\n",
       "      <td>0.1867</td>\n",
       "      <td>547.36</td>\n",
       "      <td>11.407565</td>\n",
       "      <td>15.76</td>\n",
       "      <td>667</td>\n",
       "      <td>10050.041670</td>\n",
       "      <td>13255</td>\n",
       "      <td>88.4</td>\n",
       "      <td>7</td>\n",
       "      <td>0</td>\n",
       "      <td>0</td>\n",
       "      <td>0</td>\n",
       "      <td>0</td>\n",
       "      <td>0</td>\n",
       "      <td>0</td>\n",
       "      <td>0</td>\n",
       "      <td>0</td>\n",
       "      <td>0</td>\n",
       "    </tr>\n",
       "    <tr>\n",
       "      <th>9561</th>\n",
       "      <td>0</td>\n",
       "      <td>0.0788</td>\n",
       "      <td>115.74</td>\n",
       "      <td>10.999095</td>\n",
       "      <td>10.17</td>\n",
       "      <td>722</td>\n",
       "      <td>4410.000000</td>\n",
       "      <td>11586</td>\n",
       "      <td>61.6</td>\n",
       "      <td>4</td>\n",
       "      <td>0</td>\n",
       "      <td>0</td>\n",
       "      <td>0</td>\n",
       "      <td>0</td>\n",
       "      <td>0</td>\n",
       "      <td>0</td>\n",
       "      <td>0</td>\n",
       "      <td>0</td>\n",
       "      <td>0</td>\n",
       "    </tr>\n",
       "    <tr>\n",
       "      <th>9562</th>\n",
       "      <td>0</td>\n",
       "      <td>0.1348</td>\n",
       "      <td>508.87</td>\n",
       "      <td>10.933107</td>\n",
       "      <td>17.76</td>\n",
       "      <td>717</td>\n",
       "      <td>3870.041667</td>\n",
       "      <td>8760</td>\n",
       "      <td>28.2</td>\n",
       "      <td>6</td>\n",
       "      <td>0</td>\n",
       "      <td>0</td>\n",
       "      <td>0</td>\n",
       "      <td>0</td>\n",
       "      <td>1</td>\n",
       "      <td>0</td>\n",
       "      <td>0</td>\n",
       "      <td>0</td>\n",
       "      <td>0</td>\n",
       "    </tr>\n",
       "    <tr>\n",
       "      <th>9563</th>\n",
       "      <td>0</td>\n",
       "      <td>0.1099</td>\n",
       "      <td>556.50</td>\n",
       "      <td>11.225243</td>\n",
       "      <td>17.84</td>\n",
       "      <td>727</td>\n",
       "      <td>6840.041667</td>\n",
       "      <td>18753</td>\n",
       "      <td>29.0</td>\n",
       "      <td>4</td>\n",
       "      <td>0</td>\n",
       "      <td>0</td>\n",
       "      <td>1</td>\n",
       "      <td>0</td>\n",
       "      <td>1</td>\n",
       "      <td>0</td>\n",
       "      <td>0</td>\n",
       "      <td>0</td>\n",
       "      <td>0</td>\n",
       "    </tr>\n",
       "    <tr>\n",
       "      <th>9564</th>\n",
       "      <td>0</td>\n",
       "      <td>0.1385</td>\n",
       "      <td>511.56</td>\n",
       "      <td>12.323856</td>\n",
       "      <td>12.33</td>\n",
       "      <td>687</td>\n",
       "      <td>6420.041667</td>\n",
       "      <td>385489</td>\n",
       "      <td>51.2</td>\n",
       "      <td>4</td>\n",
       "      <td>0</td>\n",
       "      <td>0</td>\n",
       "      <td>0</td>\n",
       "      <td>0</td>\n",
       "      <td>0</td>\n",
       "      <td>0</td>\n",
       "      <td>0</td>\n",
       "      <td>0</td>\n",
       "      <td>0</td>\n",
       "    </tr>\n",
       "    <tr>\n",
       "      <th>9565</th>\n",
       "      <td>0</td>\n",
       "      <td>0.1459</td>\n",
       "      <td>396.35</td>\n",
       "      <td>10.308953</td>\n",
       "      <td>21.04</td>\n",
       "      <td>697</td>\n",
       "      <td>3390.000000</td>\n",
       "      <td>26117</td>\n",
       "      <td>78.4</td>\n",
       "      <td>6</td>\n",
       "      <td>0</td>\n",
       "      <td>0</td>\n",
       "      <td>1</td>\n",
       "      <td>0</td>\n",
       "      <td>0</td>\n",
       "      <td>0</td>\n",
       "      <td>0</td>\n",
       "      <td>0</td>\n",
       "      <td>0</td>\n",
       "    </tr>\n",
       "    <tr>\n",
       "      <th>9566</th>\n",
       "      <td>0</td>\n",
       "      <td>0.2164</td>\n",
       "      <td>551.08</td>\n",
       "      <td>11.002100</td>\n",
       "      <td>24.06</td>\n",
       "      <td>662</td>\n",
       "      <td>1800.000000</td>\n",
       "      <td>16441</td>\n",
       "      <td>49.8</td>\n",
       "      <td>9</td>\n",
       "      <td>0</td>\n",
       "      <td>0</td>\n",
       "      <td>1</td>\n",
       "      <td>0</td>\n",
       "      <td>0</td>\n",
       "      <td>0</td>\n",
       "      <td>0</td>\n",
       "      <td>0</td>\n",
       "      <td>0</td>\n",
       "    </tr>\n",
       "    <tr>\n",
       "      <th>9567</th>\n",
       "      <td>0</td>\n",
       "      <td>0.1311</td>\n",
       "      <td>101.24</td>\n",
       "      <td>10.968198</td>\n",
       "      <td>8.23</td>\n",
       "      <td>687</td>\n",
       "      <td>2790.041667</td>\n",
       "      <td>1514</td>\n",
       "      <td>13.8</td>\n",
       "      <td>5</td>\n",
       "      <td>0</td>\n",
       "      <td>0</td>\n",
       "      <td>0</td>\n",
       "      <td>0</td>\n",
       "      <td>0</td>\n",
       "      <td>0</td>\n",
       "      <td>0</td>\n",
       "      <td>0</td>\n",
       "      <td>0</td>\n",
       "    </tr>\n",
       "    <tr>\n",
       "      <th>9568</th>\n",
       "      <td>0</td>\n",
       "      <td>0.1979</td>\n",
       "      <td>37.06</td>\n",
       "      <td>10.645425</td>\n",
       "      <td>22.17</td>\n",
       "      <td>667</td>\n",
       "      <td>5916.000000</td>\n",
       "      <td>28854</td>\n",
       "      <td>59.8</td>\n",
       "      <td>6</td>\n",
       "      <td>0</td>\n",
       "      <td>1</td>\n",
       "      <td>0</td>\n",
       "      <td>0</td>\n",
       "      <td>0</td>\n",
       "      <td>0</td>\n",
       "      <td>0</td>\n",
       "      <td>0</td>\n",
       "      <td>0</td>\n",
       "    </tr>\n",
       "    <tr>\n",
       "      <th>9569</th>\n",
       "      <td>0</td>\n",
       "      <td>0.1426</td>\n",
       "      <td>823.34</td>\n",
       "      <td>12.429216</td>\n",
       "      <td>3.62</td>\n",
       "      <td>722</td>\n",
       "      <td>3239.958333</td>\n",
       "      <td>33575</td>\n",
       "      <td>83.9</td>\n",
       "      <td>5</td>\n",
       "      <td>0</td>\n",
       "      <td>0</td>\n",
       "      <td>1</td>\n",
       "      <td>0</td>\n",
       "      <td>0</td>\n",
       "      <td>0</td>\n",
       "      <td>1</td>\n",
       "      <td>0</td>\n",
       "      <td>0</td>\n",
       "    </tr>\n",
       "    <tr>\n",
       "      <th>9570</th>\n",
       "      <td>0</td>\n",
       "      <td>0.1671</td>\n",
       "      <td>113.63</td>\n",
       "      <td>10.645425</td>\n",
       "      <td>28.06</td>\n",
       "      <td>672</td>\n",
       "      <td>3210.041667</td>\n",
       "      <td>25759</td>\n",
       "      <td>63.8</td>\n",
       "      <td>5</td>\n",
       "      <td>0</td>\n",
       "      <td>0</td>\n",
       "      <td>1</td>\n",
       "      <td>0</td>\n",
       "      <td>0</td>\n",
       "      <td>0</td>\n",
       "      <td>0</td>\n",
       "      <td>0</td>\n",
       "      <td>0</td>\n",
       "    </tr>\n",
       "    <tr>\n",
       "      <th>9571</th>\n",
       "      <td>0</td>\n",
       "      <td>0.1568</td>\n",
       "      <td>161.01</td>\n",
       "      <td>11.225243</td>\n",
       "      <td>8.00</td>\n",
       "      <td>677</td>\n",
       "      <td>7230.000000</td>\n",
       "      <td>6909</td>\n",
       "      <td>29.2</td>\n",
       "      <td>4</td>\n",
       "      <td>0</td>\n",
       "      <td>1</td>\n",
       "      <td>1</td>\n",
       "      <td>0</td>\n",
       "      <td>0</td>\n",
       "      <td>0</td>\n",
       "      <td>0</td>\n",
       "      <td>0</td>\n",
       "      <td>0</td>\n",
       "    </tr>\n",
       "    <tr>\n",
       "      <th>9572</th>\n",
       "      <td>0</td>\n",
       "      <td>0.1565</td>\n",
       "      <td>69.98</td>\n",
       "      <td>10.110472</td>\n",
       "      <td>7.02</td>\n",
       "      <td>662</td>\n",
       "      <td>8190.041667</td>\n",
       "      <td>2999</td>\n",
       "      <td>39.5</td>\n",
       "      <td>6</td>\n",
       "      <td>0</td>\n",
       "      <td>0</td>\n",
       "      <td>1</td>\n",
       "      <td>0</td>\n",
       "      <td>1</td>\n",
       "      <td>0</td>\n",
       "      <td>0</td>\n",
       "      <td>0</td>\n",
       "      <td>0</td>\n",
       "    </tr>\n",
       "    <tr>\n",
       "      <th>9573</th>\n",
       "      <td>0</td>\n",
       "      <td>0.1461</td>\n",
       "      <td>344.76</td>\n",
       "      <td>12.180755</td>\n",
       "      <td>10.39</td>\n",
       "      <td>672</td>\n",
       "      <td>10474.000000</td>\n",
       "      <td>215372</td>\n",
       "      <td>82.1</td>\n",
       "      <td>2</td>\n",
       "      <td>0</td>\n",
       "      <td>0</td>\n",
       "      <td>1</td>\n",
       "      <td>0</td>\n",
       "      <td>0</td>\n",
       "      <td>0</td>\n",
       "      <td>0</td>\n",
       "      <td>0</td>\n",
       "      <td>0</td>\n",
       "    </tr>\n",
       "    <tr>\n",
       "      <th>9574</th>\n",
       "      <td>0</td>\n",
       "      <td>0.1253</td>\n",
       "      <td>257.70</td>\n",
       "      <td>11.141862</td>\n",
       "      <td>0.21</td>\n",
       "      <td>722</td>\n",
       "      <td>4380.000000</td>\n",
       "      <td>184</td>\n",
       "      <td>1.1</td>\n",
       "      <td>5</td>\n",
       "      <td>0</td>\n",
       "      <td>0</td>\n",
       "      <td>1</td>\n",
       "      <td>0</td>\n",
       "      <td>0</td>\n",
       "      <td>0</td>\n",
       "      <td>0</td>\n",
       "      <td>0</td>\n",
       "      <td>0</td>\n",
       "    </tr>\n",
       "    <tr>\n",
       "      <th>9575</th>\n",
       "      <td>0</td>\n",
       "      <td>0.1071</td>\n",
       "      <td>97.81</td>\n",
       "      <td>10.596635</td>\n",
       "      <td>13.09</td>\n",
       "      <td>687</td>\n",
       "      <td>3450.041667</td>\n",
       "      <td>10036</td>\n",
       "      <td>82.9</td>\n",
       "      <td>8</td>\n",
       "      <td>0</td>\n",
       "      <td>0</td>\n",
       "      <td>1</td>\n",
       "      <td>0</td>\n",
       "      <td>1</td>\n",
       "      <td>0</td>\n",
       "      <td>0</td>\n",
       "      <td>0</td>\n",
       "      <td>0</td>\n",
       "    </tr>\n",
       "    <tr>\n",
       "      <th>9576</th>\n",
       "      <td>0</td>\n",
       "      <td>0.1600</td>\n",
       "      <td>351.58</td>\n",
       "      <td>10.819778</td>\n",
       "      <td>19.18</td>\n",
       "      <td>692</td>\n",
       "      <td>1800.000000</td>\n",
       "      <td>0</td>\n",
       "      <td>3.2</td>\n",
       "      <td>5</td>\n",
       "      <td>0</td>\n",
       "      <td>0</td>\n",
       "      <td>1</td>\n",
       "      <td>0</td>\n",
       "      <td>0</td>\n",
       "      <td>0</td>\n",
       "      <td>1</td>\n",
       "      <td>0</td>\n",
       "      <td>0</td>\n",
       "    </tr>\n",
       "    <tr>\n",
       "      <th>9577</th>\n",
       "      <td>0</td>\n",
       "      <td>0.1392</td>\n",
       "      <td>853.43</td>\n",
       "      <td>11.264464</td>\n",
       "      <td>16.28</td>\n",
       "      <td>732</td>\n",
       "      <td>4740.000000</td>\n",
       "      <td>37879</td>\n",
       "      <td>57.0</td>\n",
       "      <td>6</td>\n",
       "      <td>0</td>\n",
       "      <td>0</td>\n",
       "      <td>1</td>\n",
       "      <td>0</td>\n",
       "      <td>1</td>\n",
       "      <td>0</td>\n",
       "      <td>0</td>\n",
       "      <td>0</td>\n",
       "      <td>0</td>\n",
       "    </tr>\n",
       "  </tbody>\n",
       "</table>\n",
       "<p>9578 rows × 19 columns</p>\n",
       "</div>"
      ],
      "text/plain": [
       "      credit.policy  int.rate  installment  log.annual.inc    dti  fico  \\\n",
       "0                 1    0.1189       829.10       11.350407  19.48   737   \n",
       "1                 1    0.1071       228.22       11.082143  14.29   707   \n",
       "2                 1    0.1357       366.86       10.373491  11.63   682   \n",
       "3                 1    0.1008       162.34       11.350407   8.10   712   \n",
       "4                 1    0.1426       102.92       11.299732  14.97   667   \n",
       "5                 1    0.0788       125.13       11.904968  16.98   727   \n",
       "6                 1    0.1496       194.02       10.714418   4.00   667   \n",
       "7                 1    0.1114       131.22       11.002100  11.08   722   \n",
       "8                 1    0.1134        87.19       11.407565  17.25   682   \n",
       "9                 1    0.1221        84.12       10.203592  10.00   707   \n",
       "10                1    0.1347       360.43       10.434116  22.09   677   \n",
       "11                1    0.1324       253.58       11.835009   9.16   662   \n",
       "12                1    0.0859       316.11       10.933107  15.49   767   \n",
       "13                1    0.0714        92.82       11.512925   6.50   747   \n",
       "14                1    0.0863       209.54        9.487972   9.73   727   \n",
       "15                1    0.1103       327.53       10.738915  13.04   702   \n",
       "16                1    0.1317        77.69       10.522773   2.26   672   \n",
       "17                1    0.0894       476.58       11.608236   7.07   797   \n",
       "18                1    0.1039       584.12       10.491274   3.80   712   \n",
       "19                1    0.1513       173.65       11.002100   2.74   667   \n",
       "20                1    0.0800       188.02       11.225243  16.08   772   \n",
       "21                1    0.0863       474.42       10.819778   2.59   797   \n",
       "22                1    0.1355       339.60       11.512925   7.94   662   \n",
       "23                1    0.0788       484.85       11.736069   7.05   782   \n",
       "24                1    0.1229       320.19       11.264464   8.80   672   \n",
       "25                1    0.0901       159.03       12.429216  10.00   712   \n",
       "26                1    0.0743       155.38       11.082143   0.28   802   \n",
       "27                1    0.1375       255.43        9.998798  14.29   662   \n",
       "28                1    0.0743       155.38       12.206073   0.28   772   \n",
       "29                1    0.0743       155.38       12.206073   3.72   812   \n",
       "...             ...       ...          ...             ...    ...   ...   \n",
       "9548              0    0.1607        87.99       10.778956  14.20   667   \n",
       "9549              0    0.2164       729.70       11.877569   8.63   667   \n",
       "9550              0    0.1459       137.86       10.085809   1.15   732   \n",
       "9551              0    0.1348       508.87       11.736069  16.85   707   \n",
       "9552              0    0.1311       337.45       10.691945  23.62   702   \n",
       "9553              0    0.1385       545.67       11.775290  10.80   697   \n",
       "9554              0    0.1533       870.71       11.842229  16.16   707   \n",
       "9555              0    0.1311       674.90       12.292250   9.94   717   \n",
       "9556              0    0.1385       136.42       11.002100  18.18   677   \n",
       "9557              0    0.1025       466.35       12.206073  13.97   722   \n",
       "9558              0    0.1533       696.57       11.805595  17.21   682   \n",
       "9559              0    0.1273       688.11       11.314475  21.13   732   \n",
       "9560              0    0.1867       547.36       11.407565  15.76   667   \n",
       "9561              0    0.0788       115.74       10.999095  10.17   722   \n",
       "9562              0    0.1348       508.87       10.933107  17.76   717   \n",
       "9563              0    0.1099       556.50       11.225243  17.84   727   \n",
       "9564              0    0.1385       511.56       12.323856  12.33   687   \n",
       "9565              0    0.1459       396.35       10.308953  21.04   697   \n",
       "9566              0    0.2164       551.08       11.002100  24.06   662   \n",
       "9567              0    0.1311       101.24       10.968198   8.23   687   \n",
       "9568              0    0.1979        37.06       10.645425  22.17   667   \n",
       "9569              0    0.1426       823.34       12.429216   3.62   722   \n",
       "9570              0    0.1671       113.63       10.645425  28.06   672   \n",
       "9571              0    0.1568       161.01       11.225243   8.00   677   \n",
       "9572              0    0.1565        69.98       10.110472   7.02   662   \n",
       "9573              0    0.1461       344.76       12.180755  10.39   672   \n",
       "9574              0    0.1253       257.70       11.141862   0.21   722   \n",
       "9575              0    0.1071        97.81       10.596635  13.09   687   \n",
       "9576              0    0.1600       351.58       10.819778  19.18   692   \n",
       "9577              0    0.1392       853.43       11.264464  16.28   732   \n",
       "\n",
       "      days.with.cr.line  revol.bal  revol.util  inq.last.6mths  delinq.2yrs  \\\n",
       "0           5639.958333      28854        52.1               0            0   \n",
       "1           2760.000000      33623        76.7               0            0   \n",
       "2           4710.000000       3511        25.6               1            0   \n",
       "3           2699.958333      33667        73.2               1            0   \n",
       "4           4066.000000       4740        39.5               0            1   \n",
       "5           6120.041667      50807        51.0               0            0   \n",
       "6           3180.041667       3839        76.8               0            0   \n",
       "7           5116.000000      24220        68.6               0            0   \n",
       "8           3989.000000      69909        51.1               1            0   \n",
       "9           2730.041667       5630        23.0               1            0   \n",
       "10          6713.041667      13846        71.0               2            0   \n",
       "11          4298.000000       5122        18.2               2            1   \n",
       "12          6519.958333       6068        16.7               0            0   \n",
       "13          4384.000000       3021         4.8               0            1   \n",
       "14          1559.958333       6282        44.6               0            0   \n",
       "15          8159.958333       5394        53.4               1            0   \n",
       "16          3895.958333       2211        88.4               0            0   \n",
       "17          6510.958333       7586        52.7               1            0   \n",
       "18          2760.000000       8311        59.8               0            0   \n",
       "19          1126.958333        591        84.4               3            0   \n",
       "20          4888.958333      29797        23.2               1            0   \n",
       "21         11951.000000       5656        27.6               0            0   \n",
       "22          1939.958333      21162        57.7               0            0   \n",
       "23          5640.041667      16931        34.6               1            0   \n",
       "24          3760.958333       4822        58.1               0            0   \n",
       "25          1553.958333      14354        36.6               0            2   \n",
       "26          4649.958333       1576         5.7               1            0   \n",
       "27          1318.958333       4175        51.5               0            1   \n",
       "28          4516.958333       3164        13.7               0            0   \n",
       "29          6778.958333      85607         0.7               0            0   \n",
       "...                 ...        ...         ...             ...          ...   \n",
       "9548        4080.000000       1530        36.4               7            0   \n",
       "9549        8280.041667      55442        66.9               9            0   \n",
       "9550        1230.041667        972        11.3               5            0   \n",
       "9551        7440.041667     206877        92.5               1            0   \n",
       "9552        3780.041667       6255        56.9               5            2   \n",
       "9553        4110.000000     197716        74.9               4            0   \n",
       "9554        4230.041667      56909        49.8               5            0   \n",
       "9555        5730.041667      39576        27.7               5            0   \n",
       "9556        3423.041667      15301        85.0               4            0   \n",
       "9557        6120.041667     338935        78.3               2            0   \n",
       "9558        2790.041667      38578        86.9               4            0   \n",
       "9559        5881.000000      35227        54.3               5            0   \n",
       "9560       10050.041670      13255        88.4               7            0   \n",
       "9561        4410.000000      11586        61.6               4            0   \n",
       "9562        3870.041667       8760        28.2               6            0   \n",
       "9563        6840.041667      18753        29.0               4            0   \n",
       "9564        6420.041667     385489        51.2               4            0   \n",
       "9565        3390.000000      26117        78.4               6            0   \n",
       "9566        1800.000000      16441        49.8               9            0   \n",
       "9567        2790.041667       1514        13.8               5            0   \n",
       "9568        5916.000000      28854        59.8               6            0   \n",
       "9569        3239.958333      33575        83.9               5            0   \n",
       "9570        3210.041667      25759        63.8               5            0   \n",
       "9571        7230.000000       6909        29.2               4            0   \n",
       "9572        8190.041667       2999        39.5               6            0   \n",
       "9573       10474.000000     215372        82.1               2            0   \n",
       "9574        4380.000000        184         1.1               5            0   \n",
       "9575        3450.041667      10036        82.9               8            0   \n",
       "9576        1800.000000          0         3.2               5            0   \n",
       "9577        4740.000000      37879        57.0               6            0   \n",
       "\n",
       "      pub.rec  not.fully.paid  purpose_credit_card  \\\n",
       "0           0               0                    0   \n",
       "1           0               0                    1   \n",
       "2           0               0                    0   \n",
       "3           0               0                    0   \n",
       "4           0               0                    1   \n",
       "5           0               0                    1   \n",
       "6           1               1                    0   \n",
       "7           0               1                    0   \n",
       "8           0               0                    0   \n",
       "9           0               0                    0   \n",
       "10          1               0                    0   \n",
       "11          0               0                    0   \n",
       "12          0               0                    0   \n",
       "13          0               0                    0   \n",
       "14          0               0                    0   \n",
       "15          0               0                    0   \n",
       "16          0               0                    0   \n",
       "17          0               0                    1   \n",
       "18          0               0                    0   \n",
       "19          0               0                    0   \n",
       "20          0               0                    0   \n",
       "21          0               0                    0   \n",
       "22          0               0                    1   \n",
       "23          0               0                    1   \n",
       "24          1               0                    0   \n",
       "25          0               0                    0   \n",
       "26          0               0                    0   \n",
       "27          0               0                    0   \n",
       "28          0               0                    0   \n",
       "29          0               0                    0   \n",
       "...       ...             ...                  ...   \n",
       "9548        0               1                    0   \n",
       "9549        1               1                    0   \n",
       "9550        0               0                    0   \n",
       "9551        0               1                    0   \n",
       "9552        0               0                    0   \n",
       "9553        0               0                    0   \n",
       "9554        0               0                    0   \n",
       "9555        0               1                    0   \n",
       "9556        0               0                    0   \n",
       "9557        0               0                    1   \n",
       "9558        0               0                    0   \n",
       "9559        0               0                    1   \n",
       "9560        0               0                    0   \n",
       "9561        0               0                    0   \n",
       "9562        0               0                    0   \n",
       "9563        0               1                    0   \n",
       "9564        0               0                    0   \n",
       "9565        0               1                    0   \n",
       "9566        0               1                    0   \n",
       "9567        0               0                    0   \n",
       "9568        1               0                    0   \n",
       "9569        0               1                    0   \n",
       "9570        0               1                    0   \n",
       "9571        1               1                    0   \n",
       "9572        0               1                    0   \n",
       "9573        0               1                    0   \n",
       "9574        0               1                    0   \n",
       "9575        0               1                    0   \n",
       "9576        0               1                    0   \n",
       "9577        0               1                    0   \n",
       "\n",
       "      purpose_debt_consolidation  purpose_educational  \\\n",
       "0                              1                    0   \n",
       "1                              0                    0   \n",
       "2                              1                    0   \n",
       "3                              1                    0   \n",
       "4                              0                    0   \n",
       "5                              0                    0   \n",
       "6                              1                    0   \n",
       "7                              0                    0   \n",
       "8                              0                    0   \n",
       "9                              1                    0   \n",
       "10                             1                    0   \n",
       "11                             1                    0   \n",
       "12                             1                    0   \n",
       "13                             0                    0   \n",
       "14                             1                    0   \n",
       "15                             0                    0   \n",
       "16                             0                    0   \n",
       "17                             0                    0   \n",
       "18                             1                    0   \n",
       "19                             0                    0   \n",
       "20                             0                    0   \n",
       "21                             0                    0   \n",
       "22                             0                    0   \n",
       "23                             0                    0   \n",
       "24                             1                    0   \n",
       "25                             0                    0   \n",
       "26                             0                    0   \n",
       "27                             1                    0   \n",
       "28                             0                    0   \n",
       "29                             0                    0   \n",
       "...                          ...                  ...   \n",
       "9548                           0                    0   \n",
       "9549                           0                    0   \n",
       "9550                           0                    0   \n",
       "9551                           0                    0   \n",
       "9552                           1                    0   \n",
       "9553                           1                    0   \n",
       "9554                           0                    0   \n",
       "9555                           0                    0   \n",
       "9556                           1                    0   \n",
       "9557                           0                    0   \n",
       "9558                           1                    0   \n",
       "9559                           0                    0   \n",
       "9560                           0                    0   \n",
       "9561                           0                    0   \n",
       "9562                           1                    0   \n",
       "9563                           1                    0   \n",
       "9564                           0                    0   \n",
       "9565                           0                    0   \n",
       "9566                           0                    0   \n",
       "9567                           0                    0   \n",
       "9568                           0                    0   \n",
       "9569                           0                    0   \n",
       "9570                           0                    0   \n",
       "9571                           0                    0   \n",
       "9572                           1                    0   \n",
       "9573                           0                    0   \n",
       "9574                           0                    0   \n",
       "9575                           1                    0   \n",
       "9576                           0                    0   \n",
       "9577                           1                    0   \n",
       "\n",
       "      purpose_home_improvement  purpose_major_purchase  purpose_small_business  \n",
       "0                            0                       0                       0  \n",
       "1                            0                       0                       0  \n",
       "2                            0                       0                       0  \n",
       "3                            0                       0                       0  \n",
       "4                            0                       0                       0  \n",
       "5                            0                       0                       0  \n",
       "6                            0                       0                       0  \n",
       "7                            0                       0                       0  \n",
       "8                            1                       0                       0  \n",
       "9                            0                       0                       0  \n",
       "10                           0                       0                       0  \n",
       "11                           0                       0                       0  \n",
       "12                           0                       0                       0  \n",
       "13                           0                       0                       1  \n",
       "14                           0                       0                       0  \n",
       "15                           0                       1                       0  \n",
       "16                           0                       0                       0  \n",
       "17                           0                       0                       0  \n",
       "18                           0                       0                       0  \n",
       "19                           0                       1                       0  \n",
       "20                           0                       0                       0  \n",
       "21                           0                       0                       0  \n",
       "22                           0                       0                       0  \n",
       "23                           0                       0                       0  \n",
       "24                           0                       0                       0  \n",
       "25                           0                       0                       0  \n",
       "26                           0                       0                       0  \n",
       "27                           0                       0                       0  \n",
       "28                           0                       0                       0  \n",
       "29                           0                       0                       0  \n",
       "...                        ...                     ...                     ...  \n",
       "9548                         1                       0                       0  \n",
       "9549                         1                       0                       0  \n",
       "9550                         0                       0                       0  \n",
       "9551                         1                       0                       0  \n",
       "9552                         0                       0                       0  \n",
       "9553                         0                       0                       0  \n",
       "9554                         0                       0                       1  \n",
       "9555                         1                       0                       0  \n",
       "9556                         0                       0                       0  \n",
       "9557                         0                       0                       0  \n",
       "9558                         0                       0                       0  \n",
       "9559                         0                       0                       0  \n",
       "9560                         0                       0                       0  \n",
       "9561                         0                       0                       0  \n",
       "9562                         0                       0                       0  \n",
       "9563                         0                       0                       0  \n",
       "9564                         0                       0                       0  \n",
       "9565                         0                       0                       0  \n",
       "9566                         0                       0                       0  \n",
       "9567                         0                       0                       0  \n",
       "9568                         0                       0                       0  \n",
       "9569                         1                       0                       0  \n",
       "9570                         0                       0                       0  \n",
       "9571                         0                       0                       0  \n",
       "9572                         0                       0                       0  \n",
       "9573                         0                       0                       0  \n",
       "9574                         0                       0                       0  \n",
       "9575                         0                       0                       0  \n",
       "9576                         1                       0                       0  \n",
       "9577                         0                       0                       0  \n",
       "\n",
       "[9578 rows x 19 columns]"
      ]
     },
     "execution_count": 81,
     "metadata": {
      "tags": []
     },
     "output_type": "execute_result"
    }
   ],
   "source": [
    "final_data"
   ]
  },
  {
   "cell_type": "markdown",
   "metadata": {},
   "source": [
    "<a id=\"section33\"></a>\n",
    "<h3><b>3.3 Train-Test Split</b></h3>"
   ]
  },
  {
   "cell_type": "markdown",
   "metadata": {
    "colab_type": "text",
    "id": "GCdZZAa41_ZB"
   },
   "source": [
    "### Extract the independent column to prepare X"
   ]
  },
  {
   "cell_type": "code",
   "execution_count": 0,
   "metadata": {
    "colab": {
     "base_uri": "https://localhost:8080/",
     "height": 5389
    },
    "colab_type": "code",
    "id": "_YbO6NqC1_ZC",
    "outputId": "483ca8ee-7d1a-4338-bb59-dd25a7c7f83b"
   },
   "outputs": [
    {
     "name": "stdout",
     "output_type": "stream",
     "text": [
      "      credit.policy  int.rate  installment  log.annual.inc    dti  fico  \\\n",
      "0                 1    0.1189       829.10       11.350407  19.48   737   \n",
      "1                 1    0.1071       228.22       11.082143  14.29   707   \n",
      "2                 1    0.1357       366.86       10.373491  11.63   682   \n",
      "3                 1    0.1008       162.34       11.350407   8.10   712   \n",
      "4                 1    0.1426       102.92       11.299732  14.97   667   \n",
      "5                 1    0.0788       125.13       11.904968  16.98   727   \n",
      "6                 1    0.1496       194.02       10.714418   4.00   667   \n",
      "7                 1    0.1114       131.22       11.002100  11.08   722   \n",
      "8                 1    0.1134        87.19       11.407565  17.25   682   \n",
      "9                 1    0.1221        84.12       10.203592  10.00   707   \n",
      "10                1    0.1347       360.43       10.434116  22.09   677   \n",
      "11                1    0.1324       253.58       11.835009   9.16   662   \n",
      "12                1    0.0859       316.11       10.933107  15.49   767   \n",
      "13                1    0.0714        92.82       11.512925   6.50   747   \n",
      "14                1    0.0863       209.54        9.487972   9.73   727   \n",
      "15                1    0.1103       327.53       10.738915  13.04   702   \n",
      "16                1    0.1317        77.69       10.522773   2.26   672   \n",
      "17                1    0.0894       476.58       11.608236   7.07   797   \n",
      "18                1    0.1039       584.12       10.491274   3.80   712   \n",
      "19                1    0.1513       173.65       11.002100   2.74   667   \n",
      "20                1    0.0800       188.02       11.225243  16.08   772   \n",
      "21                1    0.0863       474.42       10.819778   2.59   797   \n",
      "22                1    0.1355       339.60       11.512925   7.94   662   \n",
      "23                1    0.0788       484.85       11.736069   7.05   782   \n",
      "24                1    0.1229       320.19       11.264464   8.80   672   \n",
      "25                1    0.0901       159.03       12.429216  10.00   712   \n",
      "26                1    0.0743       155.38       11.082143   0.28   802   \n",
      "27                1    0.1375       255.43        9.998798  14.29   662   \n",
      "28                1    0.0743       155.38       12.206073   0.28   772   \n",
      "29                1    0.0743       155.38       12.206073   3.72   812   \n",
      "...             ...       ...          ...             ...    ...   ...   \n",
      "9548              0    0.1607        87.99       10.778956  14.20   667   \n",
      "9549              0    0.2164       729.70       11.877569   8.63   667   \n",
      "9550              0    0.1459       137.86       10.085809   1.15   732   \n",
      "9551              0    0.1348       508.87       11.736069  16.85   707   \n",
      "9552              0    0.1311       337.45       10.691945  23.62   702   \n",
      "9553              0    0.1385       545.67       11.775290  10.80   697   \n",
      "9554              0    0.1533       870.71       11.842229  16.16   707   \n",
      "9555              0    0.1311       674.90       12.292250   9.94   717   \n",
      "9556              0    0.1385       136.42       11.002100  18.18   677   \n",
      "9557              0    0.1025       466.35       12.206073  13.97   722   \n",
      "9558              0    0.1533       696.57       11.805595  17.21   682   \n",
      "9559              0    0.1273       688.11       11.314475  21.13   732   \n",
      "9560              0    0.1867       547.36       11.407565  15.76   667   \n",
      "9561              0    0.0788       115.74       10.999095  10.17   722   \n",
      "9562              0    0.1348       508.87       10.933107  17.76   717   \n",
      "9563              0    0.1099       556.50       11.225243  17.84   727   \n",
      "9564              0    0.1385       511.56       12.323856  12.33   687   \n",
      "9565              0    0.1459       396.35       10.308953  21.04   697   \n",
      "9566              0    0.2164       551.08       11.002100  24.06   662   \n",
      "9567              0    0.1311       101.24       10.968198   8.23   687   \n",
      "9568              0    0.1979        37.06       10.645425  22.17   667   \n",
      "9569              0    0.1426       823.34       12.429216   3.62   722   \n",
      "9570              0    0.1671       113.63       10.645425  28.06   672   \n",
      "9571              0    0.1568       161.01       11.225243   8.00   677   \n",
      "9572              0    0.1565        69.98       10.110472   7.02   662   \n",
      "9573              0    0.1461       344.76       12.180755  10.39   672   \n",
      "9574              0    0.1253       257.70       11.141862   0.21   722   \n",
      "9575              0    0.1071        97.81       10.596635  13.09   687   \n",
      "9576              0    0.1600       351.58       10.819778  19.18   692   \n",
      "9577              0    0.1392       853.43       11.264464  16.28   732   \n",
      "\n",
      "      days.with.cr.line  revol.bal  revol.util  inq.last.6mths  delinq.2yrs  \\\n",
      "0           5639.958333      28854        52.1               0            0   \n",
      "1           2760.000000      33623        76.7               0            0   \n",
      "2           4710.000000       3511        25.6               1            0   \n",
      "3           2699.958333      33667        73.2               1            0   \n",
      "4           4066.000000       4740        39.5               0            1   \n",
      "5           6120.041667      50807        51.0               0            0   \n",
      "6           3180.041667       3839        76.8               0            0   \n",
      "7           5116.000000      24220        68.6               0            0   \n",
      "8           3989.000000      69909        51.1               1            0   \n",
      "9           2730.041667       5630        23.0               1            0   \n",
      "10          6713.041667      13846        71.0               2            0   \n",
      "11          4298.000000       5122        18.2               2            1   \n",
      "12          6519.958333       6068        16.7               0            0   \n",
      "13          4384.000000       3021         4.8               0            1   \n",
      "14          1559.958333       6282        44.6               0            0   \n",
      "15          8159.958333       5394        53.4               1            0   \n",
      "16          3895.958333       2211        88.4               0            0   \n",
      "17          6510.958333       7586        52.7               1            0   \n",
      "18          2760.000000       8311        59.8               0            0   \n",
      "19          1126.958333        591        84.4               3            0   \n",
      "20          4888.958333      29797        23.2               1            0   \n",
      "21         11951.000000       5656        27.6               0            0   \n",
      "22          1939.958333      21162        57.7               0            0   \n",
      "23          5640.041667      16931        34.6               1            0   \n",
      "24          3760.958333       4822        58.1               0            0   \n",
      "25          1553.958333      14354        36.6               0            2   \n",
      "26          4649.958333       1576         5.7               1            0   \n",
      "27          1318.958333       4175        51.5               0            1   \n",
      "28          4516.958333       3164        13.7               0            0   \n",
      "29          6778.958333      85607         0.7               0            0   \n",
      "...                 ...        ...         ...             ...          ...   \n",
      "9548        4080.000000       1530        36.4               7            0   \n",
      "9549        8280.041667      55442        66.9               9            0   \n",
      "9550        1230.041667        972        11.3               5            0   \n",
      "9551        7440.041667     206877        92.5               1            0   \n",
      "9552        3780.041667       6255        56.9               5            2   \n",
      "9553        4110.000000     197716        74.9               4            0   \n",
      "9554        4230.041667      56909        49.8               5            0   \n",
      "9555        5730.041667      39576        27.7               5            0   \n",
      "9556        3423.041667      15301        85.0               4            0   \n",
      "9557        6120.041667     338935        78.3               2            0   \n",
      "9558        2790.041667      38578        86.9               4            0   \n",
      "9559        5881.000000      35227        54.3               5            0   \n",
      "9560       10050.041670      13255        88.4               7            0   \n",
      "9561        4410.000000      11586        61.6               4            0   \n",
      "9562        3870.041667       8760        28.2               6            0   \n",
      "9563        6840.041667      18753        29.0               4            0   \n",
      "9564        6420.041667     385489        51.2               4            0   \n",
      "9565        3390.000000      26117        78.4               6            0   \n",
      "9566        1800.000000      16441        49.8               9            0   \n",
      "9567        2790.041667       1514        13.8               5            0   \n",
      "9568        5916.000000      28854        59.8               6            0   \n",
      "9569        3239.958333      33575        83.9               5            0   \n",
      "9570        3210.041667      25759        63.8               5            0   \n",
      "9571        7230.000000       6909        29.2               4            0   \n",
      "9572        8190.041667       2999        39.5               6            0   \n",
      "9573       10474.000000     215372        82.1               2            0   \n",
      "9574        4380.000000        184         1.1               5            0   \n",
      "9575        3450.041667      10036        82.9               8            0   \n",
      "9576        1800.000000          0         3.2               5            0   \n",
      "9577        4740.000000      37879        57.0               6            0   \n",
      "\n",
      "      pub.rec  purpose_credit_card  purpose_debt_consolidation  \\\n",
      "0           0                    0                           1   \n",
      "1           0                    1                           0   \n",
      "2           0                    0                           1   \n",
      "3           0                    0                           1   \n",
      "4           0                    1                           0   \n",
      "5           0                    1                           0   \n",
      "6           1                    0                           1   \n",
      "7           0                    0                           0   \n",
      "8           0                    0                           0   \n",
      "9           0                    0                           1   \n",
      "10          1                    0                           1   \n",
      "11          0                    0                           1   \n",
      "12          0                    0                           1   \n",
      "13          0                    0                           0   \n",
      "14          0                    0                           1   \n",
      "15          0                    0                           0   \n",
      "16          0                    0                           0   \n",
      "17          0                    1                           0   \n",
      "18          0                    0                           1   \n",
      "19          0                    0                           0   \n",
      "20          0                    0                           0   \n",
      "21          0                    0                           0   \n",
      "22          0                    1                           0   \n",
      "23          0                    1                           0   \n",
      "24          1                    0                           1   \n",
      "25          0                    0                           0   \n",
      "26          0                    0                           0   \n",
      "27          0                    0                           1   \n",
      "28          0                    0                           0   \n",
      "29          0                    0                           0   \n",
      "...       ...                  ...                         ...   \n",
      "9548        0                    0                           0   \n",
      "9549        1                    0                           0   \n",
      "9550        0                    0                           0   \n",
      "9551        0                    0                           0   \n",
      "9552        0                    0                           1   \n",
      "9553        0                    0                           1   \n",
      "9554        0                    0                           0   \n",
      "9555        0                    0                           0   \n",
      "9556        0                    0                           1   \n",
      "9557        0                    1                           0   \n",
      "9558        0                    0                           1   \n",
      "9559        0                    1                           0   \n",
      "9560        0                    0                           0   \n",
      "9561        0                    0                           0   \n",
      "9562        0                    0                           1   \n",
      "9563        0                    0                           1   \n",
      "9564        0                    0                           0   \n",
      "9565        0                    0                           0   \n",
      "9566        0                    0                           0   \n",
      "9567        0                    0                           0   \n",
      "9568        1                    0                           0   \n",
      "9569        0                    0                           0   \n",
      "9570        0                    0                           0   \n",
      "9571        1                    0                           0   \n",
      "9572        0                    0                           1   \n",
      "9573        0                    0                           0   \n",
      "9574        0                    0                           0   \n",
      "9575        0                    0                           1   \n",
      "9576        0                    0                           0   \n",
      "9577        0                    0                           1   \n",
      "\n",
      "      purpose_educational  purpose_home_improvement  purpose_major_purchase  \\\n",
      "0                       0                         0                       0   \n",
      "1                       0                         0                       0   \n",
      "2                       0                         0                       0   \n",
      "3                       0                         0                       0   \n",
      "4                       0                         0                       0   \n",
      "5                       0                         0                       0   \n",
      "6                       0                         0                       0   \n",
      "7                       0                         0                       0   \n",
      "8                       0                         1                       0   \n",
      "9                       0                         0                       0   \n",
      "10                      0                         0                       0   \n",
      "11                      0                         0                       0   \n",
      "12                      0                         0                       0   \n",
      "13                      0                         0                       0   \n",
      "14                      0                         0                       0   \n",
      "15                      0                         0                       1   \n",
      "16                      0                         0                       0   \n",
      "17                      0                         0                       0   \n",
      "18                      0                         0                       0   \n",
      "19                      0                         0                       1   \n",
      "20                      0                         0                       0   \n",
      "21                      0                         0                       0   \n",
      "22                      0                         0                       0   \n",
      "23                      0                         0                       0   \n",
      "24                      0                         0                       0   \n",
      "25                      0                         0                       0   \n",
      "26                      0                         0                       0   \n",
      "27                      0                         0                       0   \n",
      "28                      0                         0                       0   \n",
      "29                      0                         0                       0   \n",
      "...                   ...                       ...                     ...   \n",
      "9548                    0                         1                       0   \n",
      "9549                    0                         1                       0   \n",
      "9550                    0                         0                       0   \n",
      "9551                    0                         1                       0   \n",
      "9552                    0                         0                       0   \n",
      "9553                    0                         0                       0   \n",
      "9554                    0                         0                       0   \n",
      "9555                    0                         1                       0   \n",
      "9556                    0                         0                       0   \n",
      "9557                    0                         0                       0   \n",
      "9558                    0                         0                       0   \n",
      "9559                    0                         0                       0   \n",
      "9560                    0                         0                       0   \n",
      "9561                    0                         0                       0   \n",
      "9562                    0                         0                       0   \n",
      "9563                    0                         0                       0   \n",
      "9564                    0                         0                       0   \n",
      "9565                    0                         0                       0   \n",
      "9566                    0                         0                       0   \n",
      "9567                    0                         0                       0   \n",
      "9568                    0                         0                       0   \n",
      "9569                    0                         1                       0   \n",
      "9570                    0                         0                       0   \n",
      "9571                    0                         0                       0   \n",
      "9572                    0                         0                       0   \n",
      "9573                    0                         0                       0   \n",
      "9574                    0                         0                       0   \n",
      "9575                    0                         0                       0   \n",
      "9576                    0                         1                       0   \n",
      "9577                    0                         0                       0   \n",
      "\n",
      "      purpose_small_business  \n",
      "0                          0  \n",
      "1                          0  \n",
      "2                          0  \n",
      "3                          0  \n",
      "4                          0  \n",
      "5                          0  \n",
      "6                          0  \n",
      "7                          0  \n",
      "8                          0  \n",
      "9                          0  \n",
      "10                         0  \n",
      "11                         0  \n",
      "12                         0  \n",
      "13                         1  \n",
      "14                         0  \n",
      "15                         0  \n",
      "16                         0  \n",
      "17                         0  \n",
      "18                         0  \n",
      "19                         0  \n",
      "20                         0  \n",
      "21                         0  \n",
      "22                         0  \n",
      "23                         0  \n",
      "24                         0  \n",
      "25                         0  \n",
      "26                         0  \n",
      "27                         0  \n",
      "28                         0  \n",
      "29                         0  \n",
      "...                      ...  \n",
      "9548                       0  \n",
      "9549                       0  \n",
      "9550                       0  \n",
      "9551                       0  \n",
      "9552                       0  \n",
      "9553                       0  \n",
      "9554                       1  \n",
      "9555                       0  \n",
      "9556                       0  \n",
      "9557                       0  \n",
      "9558                       0  \n",
      "9559                       0  \n",
      "9560                       0  \n",
      "9561                       0  \n",
      "9562                       0  \n",
      "9563                       0  \n",
      "9564                       0  \n",
      "9565                       0  \n",
      "9566                       0  \n",
      "9567                       0  \n",
      "9568                       0  \n",
      "9569                       0  \n",
      "9570                       0  \n",
      "9571                       0  \n",
      "9572                       0  \n",
      "9573                       0  \n",
      "9574                       0  \n",
      "9575                       0  \n",
      "9576                       0  \n",
      "9577                       0  \n",
      "\n",
      "[9578 rows x 18 columns]\n"
     ]
    }
   ],
   "source": [
    "X = pd.DataFrame()\n",
    "def model_variables():\n",
    "    # create new dataframe X having all the independebt variables\n",
    "    X=final_data.drop('not.fully.paid',axis=1)\n",
    "    return X#newly created dataframe\n",
    "X = model_variables()\n",
    "print(X)"
   ]
  },
  {
   "cell_type": "markdown",
   "metadata": {
    "colab_type": "text",
    "id": "Ew41rSGa1_ZF"
   },
   "source": [
    "### Extract dependent column into a dataframe y for model prediction"
   ]
  },
  {
   "cell_type": "code",
   "execution_count": 0,
   "metadata": {
    "colab": {},
    "colab_type": "code",
    "id": "7at7Pz0S1_ZG"
   },
   "outputs": [],
   "source": [
    "y = pd.DataFrame()\n",
    "def target_variable():\n",
    "     # create new dataframe y having the dependebt variable\n",
    "    y=loans['not.fully.paid']\n",
    "    return y#newly created dataframe\n",
    "y = target_variable()"
   ]
  },
  {
   "cell_type": "code",
   "execution_count": 0,
   "metadata": {
    "colab": {
     "base_uri": "https://localhost:8080/",
     "height": 1071
    },
    "colab_type": "code",
    "id": "-2-dt3hnITIX",
    "outputId": "555d5036-b5c9-423e-bfa3-718f13813ff6"
   },
   "outputs": [
    {
     "data": {
      "text/plain": [
       "0       0\n",
       "1       0\n",
       "2       0\n",
       "3       0\n",
       "4       0\n",
       "5       0\n",
       "6       1\n",
       "7       1\n",
       "8       0\n",
       "9       0\n",
       "10      0\n",
       "11      0\n",
       "12      0\n",
       "13      0\n",
       "14      0\n",
       "15      0\n",
       "16      0\n",
       "17      0\n",
       "18      0\n",
       "19      0\n",
       "20      0\n",
       "21      0\n",
       "22      0\n",
       "23      0\n",
       "24      0\n",
       "25      0\n",
       "26      0\n",
       "27      0\n",
       "28      0\n",
       "29      0\n",
       "       ..\n",
       "9548    1\n",
       "9549    1\n",
       "9550    0\n",
       "9551    1\n",
       "9552    0\n",
       "9553    0\n",
       "9554    0\n",
       "9555    1\n",
       "9556    0\n",
       "9557    0\n",
       "9558    0\n",
       "9559    0\n",
       "9560    0\n",
       "9561    0\n",
       "9562    0\n",
       "9563    1\n",
       "9564    0\n",
       "9565    1\n",
       "9566    1\n",
       "9567    0\n",
       "9568    0\n",
       "9569    1\n",
       "9570    1\n",
       "9571    1\n",
       "9572    1\n",
       "9573    1\n",
       "9574    1\n",
       "9575    1\n",
       "9576    1\n",
       "9577    1\n",
       "Name: not.fully.paid, Length: 9578, dtype: int64"
      ]
     },
     "execution_count": 84,
     "metadata": {
      "tags": []
     },
     "output_type": "execute_result"
    }
   ],
   "source": [
    "y"
   ]
  },
  {
   "cell_type": "markdown",
   "metadata": {
    "colab_type": "text",
    "id": "WNFw0LqD1_ZI"
   },
   "source": [
    "### Splitting X and y into train and test dataset"
   ]
  },
  {
   "cell_type": "code",
   "execution_count": 0,
   "metadata": {
    "colab": {},
    "colab_type": "code",
    "id": "IXSmxakB1_ZJ"
   },
   "outputs": [],
   "source": [
    "from sklearn.model_selection import train_test_split\n",
    "def df_split():\n",
    "    return train_test_split(X, y , test_size=0.3, random_state=1)#using train_test_split, split the data into train and test in the ration 70:30 respectively.\n",
    "X_train, X_test, y_train, y_test = df_split()"
   ]
  },
  {
   "cell_type": "markdown",
   "metadata": {
    "colab_type": "text",
    "id": "UN6-BxOp1_ZO"
   },
   "source": [
    "### Check the shape of X and y of train dataset"
   ]
  },
  {
   "cell_type": "code",
   "execution_count": 0,
   "metadata": {
    "colab": {
     "base_uri": "https://localhost:8080/",
     "height": 51
    },
    "colab_type": "code",
    "id": "hChAuJcL1_ZS",
    "outputId": "c878fcf9-8826-4361-b3fc-d50c83270f0d"
   },
   "outputs": [
    {
     "name": "stdout",
     "output_type": "stream",
     "text": [
      "(6704, 18)\n",
      "(6704,)\n"
     ]
    }
   ],
   "source": [
    "def shape_check_train():\n",
    "    print(X_train.shape)\n",
    "    print(y_train.shape)\n",
    "shape_check_train()"
   ]
  },
  {
   "cell_type": "markdown",
   "metadata": {
    "colab_type": "text",
    "id": "U0PQa0GX1_ZX"
   },
   "source": [
    "### Check the shape of X and y of test dataset"
   ]
  },
  {
   "cell_type": "code",
   "execution_count": 0,
   "metadata": {
    "colab": {
     "base_uri": "https://localhost:8080/",
     "height": 51
    },
    "colab_type": "code",
    "id": "tLI499Xq1_ZY",
    "outputId": "af3fe1bc-9ea3-437a-e229-94eeffe08837"
   },
   "outputs": [
    {
     "name": "stdout",
     "output_type": "stream",
     "text": [
      "(2874, 18)\n",
      "(2874,)\n"
     ]
    }
   ],
   "source": [
    "def shape_check_test():\n",
    "    print(X_test.shape)\n",
    "    print(y_test.shape)\n",
    "shape_check_test()"
   ]
  },
  {
   "cell_type": "markdown",
   "metadata": {},
   "source": [
    "<a id=\"section4\"></a>\n",
    "<h3><b>4. Data Modeling </b></h3>"
   ]
  },
  {
   "cell_type": "markdown",
   "metadata": {
    "colab_type": "text",
    "id": "jRihjBBm1_Zb"
   },
   "source": [
    "<a id=\"section41\"></a>\n",
    "<h3><b>4.1 Decision Tree</b></h3>\n",
    "\n",
    "<a id=\"section411\"></a>\n",
    "<h3><b>4.1.1 Building Decision Tree Model</b></h3>\n",
    "\n"
   ]
  },
  {
   "cell_type": "code",
   "execution_count": 0,
   "metadata": {
    "colab": {},
    "colab_type": "code",
    "id": "ZIIG9Bvz1_Zc"
   },
   "outputs": [],
   "source": [
    "from sklearn.tree import DecisionTreeClassifier\n",
    "def decisionTreeCreation():\n",
    "    # initate the DecisionTreeClasifier as dtree.\n",
    "    dtree=DecisionTreeClassifier()\n",
    "    return dtree\n",
    "dtree = decisionTreeCreation()"
   ]
  },
  {
   "cell_type": "markdown",
   "metadata": {
    "colab_type": "text",
    "id": "VseeMRtU1_Zg"
   },
   "source": [
    "### Fit the model on X_train and y_train"
   ]
  },
  {
   "cell_type": "code",
   "execution_count": 0,
   "metadata": {
    "colab": {
     "base_uri": "https://localhost:8080/",
     "height": 119
    },
    "colab_type": "code",
    "id": "LovNazAm1_Zh",
    "outputId": "8f5276c9-a32e-4c75-97c5-fe5e4f70fbaa"
   },
   "outputs": [
    {
     "data": {
      "text/plain": [
       "DecisionTreeClassifier(class_weight=None, criterion='gini', max_depth=None,\n",
       "            max_features=None, max_leaf_nodes=None,\n",
       "            min_impurity_decrease=0.0, min_impurity_split=None,\n",
       "            min_samples_leaf=1, min_samples_split=2,\n",
       "            min_weight_fraction_leaf=0.0, presort=False, random_state=None,\n",
       "            splitter='best')"
      ]
     },
     "execution_count": 89,
     "metadata": {
      "tags": []
     },
     "output_type": "execute_result"
    }
   ],
   "source": [
    "def data_fit():\n",
    "    return dtree.fit(X_train,y_train)# the fitted model on X_train and y_train\n",
    "data_fit()"
   ]
  },
  {
   "cell_type": "markdown",
   "metadata": {
    "colab_type": "text",
    "id": "iWFliAMy1_Zm"
   },
   "source": [
    "### Using the model for prediciton"
   ]
  },
  {
   "cell_type": "code",
   "execution_count": 0,
   "metadata": {
    "colab": {},
    "colab_type": "code",
    "id": "tr1CKLFF1_Zo"
   },
   "outputs": [],
   "source": [
    "predictions = pd.DataFrame()\n",
    "def predict_test():\n",
    "    # use the model for prediction and assign it to predictions\n",
    "    predictions=dtree.predict(X_test)\n",
    "    return predictions\n",
    "predictions = predict_test()"
   ]
  },
  {
   "cell_type": "code",
   "execution_count": 0,
   "metadata": {
    "colab": {
     "base_uri": "https://localhost:8080/",
     "height": 34
    },
    "colab_type": "code",
    "id": "tAfD4GIOKi4u",
    "outputId": "b2d1ea30-6cd1-4841-df7c-3d8eed79335d"
   },
   "outputs": [
    {
     "data": {
      "text/plain": [
       "2381"
      ]
     },
     "execution_count": 91,
     "metadata": {
      "tags": []
     },
     "output_type": "execute_result"
    }
   ],
   "source": [
    "import numpy as np\n",
    "#np.count_nonzero(predictions) #number of people not repaid the loan ie not.fully.repaid\n",
    "tup=np.where( predictions == 0)\n",
    "len(tup[0])\n"
   ]
  },
  {
   "cell_type": "markdown",
   "metadata": {},
   "source": [
    "<a id=\"section421\"></a>\n",
    "<h3><b>4.2.1 Model Evaluation</b></h3>\n"
   ]
  },
  {
   "cell_type": "markdown",
   "metadata": {
    "colab_type": "text",
    "id": "XdfDmXZm1_Zq"
   },
   "source": [
    "### Model evaluation using Confusion matrix."
   ]
  },
  {
   "cell_type": "code",
   "execution_count": 0,
   "metadata": {
    "colab": {},
    "colab_type": "code",
    "id": "uoeZ07P81_Zs"
   },
   "outputs": [],
   "source": [
    "from sklearn.metrics import confusion_matrix\n",
    "def confusionMatrix():\n",
    "    con_mat=pd.DataFrame(confusion_matrix(y_test,predictions))\n",
    "    con_mat.index=[\"Actual Loan repaid(not.fully.paid=0)\",\"Actual loan not repaid(not.fully.paid=1)\"] # GO WITH THE COLUMN NAME AND RENAME IT ACCORDING TO OUR CONVINENCE\n",
    "    con_mat.columns=[\"Predicted loan repaid(not.fully.paid=0)\",\"Predicted loan not repaid(not.fully.paid=1)\"]\n",
    "    return con_mat\n",
    "    #COmpute and print the confusion matrix\n",
    "    \n",
    "con_mat=confusionMatrix()"
   ]
  },
  {
   "cell_type": "code",
   "execution_count": 0,
   "metadata": {
    "colab": {
     "base_uri": "https://localhost:8080/",
     "height": 111
    },
    "colab_type": "code",
    "id": "z_ZFBv29520j",
    "outputId": "69f5fd09-3061-48f6-e25e-3ba953b021eb"
   },
   "outputs": [
    {
     "data": {
      "text/html": [
       "<div>\n",
       "<style scoped>\n",
       "    .dataframe tbody tr th:only-of-type {\n",
       "        vertical-align: middle;\n",
       "    }\n",
       "\n",
       "    .dataframe tbody tr th {\n",
       "        vertical-align: top;\n",
       "    }\n",
       "\n",
       "    .dataframe thead th {\n",
       "        text-align: right;\n",
       "    }\n",
       "</style>\n",
       "<table border=\"1\" class=\"dataframe\">\n",
       "  <thead>\n",
       "    <tr style=\"text-align: right;\">\n",
       "      <th></th>\n",
       "      <th>Predicted loan repaid(not.fully.paid=0)</th>\n",
       "      <th>Predicted loan not repaid(not.fully.paid=1)</th>\n",
       "    </tr>\n",
       "  </thead>\n",
       "  <tbody>\n",
       "    <tr>\n",
       "      <th>Actual Loan repaid(not.fully.paid=0)</th>\n",
       "      <td>2003</td>\n",
       "      <td>394</td>\n",
       "    </tr>\n",
       "    <tr>\n",
       "      <th>Actual loan not repaid(not.fully.paid=1)</th>\n",
       "      <td>378</td>\n",
       "      <td>99</td>\n",
       "    </tr>\n",
       "  </tbody>\n",
       "</table>\n",
       "</div>"
      ],
      "text/plain": [
       "                                          Predicted loan repaid(not.fully.paid=0)  \\\n",
       "Actual Loan repaid(not.fully.paid=0)                                         2003   \n",
       "Actual loan not repaid(not.fully.paid=1)                                      378   \n",
       "\n",
       "                                          Predicted loan not repaid(not.fully.paid=1)  \n",
       "Actual Loan repaid(not.fully.paid=0)                                              394  \n",
       "Actual loan not repaid(not.fully.paid=1)                                           99  "
      ]
     },
     "execution_count": 93,
     "metadata": {
      "tags": []
     },
     "output_type": "execute_result"
    }
   ],
   "source": [
    "con_mat"
   ]
  },
  {
   "cell_type": "markdown",
   "metadata": {
    "colab_type": "text",
    "id": "5LTFfdZ31_Zv"
   },
   "source": [
    "### Model evaluation using recall score"
   ]
  },
  {
   "cell_type": "code",
   "execution_count": 0,
   "metadata": {
    "colab": {
     "base_uri": "https://localhost:8080/",
     "height": 34
    },
    "colab_type": "code",
    "id": "RouljgrF1_Zv",
    "outputId": "25c0dff5-73bc-4d96-9923-52ceec695f7c"
   },
   "outputs": [
    {
     "name": "stdout",
     "output_type": "stream",
     "text": [
      "Recall score for test data is: 0.20754716981132076\n"
     ]
    }
   ],
   "source": [
    "from sklearn.metrics import recall_score\n",
    "def recall2():\n",
    "    # compute the recall score as recall1\n",
    "    # your code to print the recall1 scoreprint('Recall score for test data is:', recall1)\n",
    "    recall1=recall_score(y_test,predictions)\n",
    "    print(\"Recall score for test data is:\",recall1)\n",
    "    \n",
    "    return recall1\n",
    "recall1 = recall2()"
   ]
  },
  {
   "cell_type": "markdown",
   "metadata": {
    "colab_type": "text",
    "id": "9EWWa5Iw1_Zy"
   },
   "source": [
    "### Model evaluation using classification report.\n",
    "- Refer the link for Classification report documentation - http://scikit-learn.org/stable/modules/generated/sklearn.metrics.classification_report.html"
   ]
  },
  {
   "cell_type": "code",
   "execution_count": 0,
   "metadata": {
    "colab": {
     "base_uri": "https://localhost:8080/",
     "height": 170
    },
    "colab_type": "code",
    "id": "XVzbTdCy1_Zz",
    "outputId": "bc129fea-0324-441f-af89-f94027f8635c"
   },
   "outputs": [
    {
     "name": "stdout",
     "output_type": "stream",
     "text": [
      "              precision    recall  f1-score   support\n",
      "\n",
      "           0       0.84      0.84      0.84      2397\n",
      "           1       0.20      0.21      0.20       477\n",
      "\n",
      "   micro avg       0.73      0.73      0.73      2874\n",
      "   macro avg       0.52      0.52      0.52      2874\n",
      "weighted avg       0.73      0.73      0.73      2874\n",
      "\n"
     ]
    }
   ],
   "source": [
    "from sklearn.metrics import classification_report\n",
    "def classficationReport():\n",
    "    # COmpute and print the classification report\n",
    "    print(classification_report(y_test,predictions)) \n",
    "classficationReport()"
   ]
  },
  {
   "cell_type": "markdown",
   "metadata": {
    "colab_type": "text",
    "id": "Awq3Xf4g1_Z2"
   },
   "source": [
    "### Instantiate Decision Tree Classifer using sikit learn having (criterion='entropy', max_leaf_nodes=10, max_depth=3, min_samples_split=5, min_samples_leaf=4).\n",
    "- Refer the link for DecisionTreeClassifier - http://scikit-learn.org/stable/modules/generated/sklearn.tree.DecisionTreeClassifier.html"
   ]
  },
  {
   "cell_type": "code",
   "execution_count": 0,
   "metadata": {
    "colab": {},
    "colab_type": "code",
    "id": "TdEZt1jD1_Z2"
   },
   "outputs": [],
   "source": [
    "def dtreeclassifier():\n",
    "    # instantiate Decision tree classifier as dtree1 with the above mentioned parameters\n",
    "    dtree1=DecisionTreeClassifier(criterion = 'entropy', max_leaf_nodes=10, max_depth=3, min_samples_split=5, min_samples_leaf=4)\n",
    "    return dtree1\n",
    "dtree1 = dtreeclassifier()"
   ]
  },
  {
   "cell_type": "markdown",
   "metadata": {
    "colab_type": "text",
    "id": "O7w966GI1_Z5"
   },
   "source": [
    "### Fit the model X_train and y_train"
   ]
  },
  {
   "cell_type": "code",
   "execution_count": 0,
   "metadata": {
    "colab": {
     "base_uri": "https://localhost:8080/",
     "height": 119
    },
    "colab_type": "code",
    "id": "ig5lpTX61_Z6",
    "outputId": "f4b3542a-d987-4e45-eed6-9e25e27f5e4b"
   },
   "outputs": [
    {
     "data": {
      "text/plain": [
       "DecisionTreeClassifier(class_weight=None, criterion='entropy', max_depth=3,\n",
       "            max_features=None, max_leaf_nodes=10,\n",
       "            min_impurity_decrease=0.0, min_impurity_split=None,\n",
       "            min_samples_leaf=4, min_samples_split=5,\n",
       "            min_weight_fraction_leaf=0.0, presort=False, random_state=None,\n",
       "            splitter='best')"
      ]
     },
     "execution_count": 97,
     "metadata": {
      "tags": []
     },
     "output_type": "execute_result"
    }
   ],
   "source": [
    "def dtreeFit2():\n",
    "    dtree1.fit(X_train,y_train)\n",
    "    return dtree1# the fitted model on X_train and y_train\n",
    "dtreeFit2()"
   ]
  },
  {
   "cell_type": "markdown",
   "metadata": {
    "colab_type": "text",
    "id": "liC7r2GU1_Z8"
   },
   "source": [
    "### Use the model for prediction"
   ]
  },
  {
   "cell_type": "code",
   "execution_count": 0,
   "metadata": {
    "colab": {},
    "colab_type": "code",
    "id": "2Q2W0Mu11_Z9"
   },
   "outputs": [],
   "source": [
    "predictions_new = pd.DataFrame()\n",
    "def dtree2_prediction():\n",
    "    # use the model for prediction and assign it to predeictions_new\n",
    "    predictions_new=dtree1.predict(X_test)\n",
    "    return predictions_new\n",
    "predictions_new = dtree2_prediction()"
   ]
  },
  {
   "cell_type": "markdown",
   "metadata": {
    "colab_type": "text",
    "id": "fF7LKrvO1_aA"
   },
   "source": [
    "### Model evaluation using Confusion matrix"
   ]
  },
  {
   "cell_type": "code",
   "execution_count": 0,
   "metadata": {
    "colab": {},
    "colab_type": "code",
    "id": "UtQac6941_aC"
   },
   "outputs": [],
   "source": [
    "def confusion_matrix2():\n",
    "    # Compute and print the confusion matrix\n",
    "    con_mat2=pd.DataFrame(confusion_matrix(y_test,predictions_new))\n",
    "    con_mat2.index=[\"ActualLoanRepaid(not.fully.paid=0)\",\"ActualLoanNotRepaid(not.fully.paid=1)\"] # GO WITH THE COLUMN NAME AND RENAME IT ACCORDING TO OUR CONVINENCE\n",
    "    con_mat2.columns=[\"PredictedLoanRepaid(not.fully.paid=0)\",\"PredictedLoanNotRepaid(not.fully.paid=1)\"]\n",
    "    return con_mat2\n",
    "\n",
    "con_mat2=confusion_matrix2()"
   ]
  },
  {
   "cell_type": "code",
   "execution_count": 0,
   "metadata": {
    "colab": {
     "base_uri": "https://localhost:8080/",
     "height": 111
    },
    "colab_type": "code",
    "id": "HcwZASfvfT1V",
    "outputId": "7eb7f6be-9e2b-4d3f-c25e-2464d48b1364"
   },
   "outputs": [
    {
     "data": {
      "text/html": [
       "<div>\n",
       "<style scoped>\n",
       "    .dataframe tbody tr th:only-of-type {\n",
       "        vertical-align: middle;\n",
       "    }\n",
       "\n",
       "    .dataframe tbody tr th {\n",
       "        vertical-align: top;\n",
       "    }\n",
       "\n",
       "    .dataframe thead th {\n",
       "        text-align: right;\n",
       "    }\n",
       "</style>\n",
       "<table border=\"1\" class=\"dataframe\">\n",
       "  <thead>\n",
       "    <tr style=\"text-align: right;\">\n",
       "      <th></th>\n",
       "      <th>Predicted loan repaid(not.fully.paid=0)</th>\n",
       "      <th>Predicted loan not repaid(not.fully.paid=1)</th>\n",
       "    </tr>\n",
       "  </thead>\n",
       "  <tbody>\n",
       "    <tr>\n",
       "      <th>Actual Loan repaid(not.fully.paid=0)</th>\n",
       "      <td>2003</td>\n",
       "      <td>394</td>\n",
       "    </tr>\n",
       "    <tr>\n",
       "      <th>Actual loan not repaid(not.fully.paid=1)</th>\n",
       "      <td>378</td>\n",
       "      <td>99</td>\n",
       "    </tr>\n",
       "  </tbody>\n",
       "</table>\n",
       "</div>"
      ],
      "text/plain": [
       "                                          Predicted loan repaid(not.fully.paid=0)  \\\n",
       "Actual Loan repaid(not.fully.paid=0)                                         2003   \n",
       "Actual loan not repaid(not.fully.paid=1)                                      378   \n",
       "\n",
       "                                          Predicted loan not repaid(not.fully.paid=1)  \n",
       "Actual Loan repaid(not.fully.paid=0)                                              394  \n",
       "Actual loan not repaid(not.fully.paid=1)                                           99  "
      ]
     },
     "execution_count": 100,
     "metadata": {
      "tags": []
     },
     "output_type": "execute_result"
    }
   ],
   "source": [
    "con_mat"
   ]
  },
  {
   "cell_type": "code",
   "execution_count": 0,
   "metadata": {
    "colab": {
     "base_uri": "https://localhost:8080/",
     "height": 111
    },
    "colab_type": "code",
    "id": "eYzcyH_p93Dt",
    "outputId": "b0600061-fb9b-4b7b-85bc-eda29d82a972"
   },
   "outputs": [
    {
     "data": {
      "text/html": [
       "<div>\n",
       "<style scoped>\n",
       "    .dataframe tbody tr th:only-of-type {\n",
       "        vertical-align: middle;\n",
       "    }\n",
       "\n",
       "    .dataframe tbody tr th {\n",
       "        vertical-align: top;\n",
       "    }\n",
       "\n",
       "    .dataframe thead th {\n",
       "        text-align: right;\n",
       "    }\n",
       "</style>\n",
       "<table border=\"1\" class=\"dataframe\">\n",
       "  <thead>\n",
       "    <tr style=\"text-align: right;\">\n",
       "      <th></th>\n",
       "      <th>PredictedLoanRepaid(not.fully.paid=0)</th>\n",
       "      <th>PredictedLoanNotRepaid(not.fully.paid=1)</th>\n",
       "    </tr>\n",
       "  </thead>\n",
       "  <tbody>\n",
       "    <tr>\n",
       "      <th>ActualLoanRepaid(not.fully.paid=0)</th>\n",
       "      <td>2384</td>\n",
       "      <td>13</td>\n",
       "    </tr>\n",
       "    <tr>\n",
       "      <th>ActualLoanNotRepaid(not.fully.paid=1)</th>\n",
       "      <td>471</td>\n",
       "      <td>6</td>\n",
       "    </tr>\n",
       "  </tbody>\n",
       "</table>\n",
       "</div>"
      ],
      "text/plain": [
       "                                       PredictedLoanRepaid(not.fully.paid=0)  \\\n",
       "ActualLoanRepaid(not.fully.paid=0)                                      2384   \n",
       "ActualLoanNotRepaid(not.fully.paid=1)                                    471   \n",
       "\n",
       "                                       PredictedLoanNotRepaid(not.fully.paid=1)  \n",
       "ActualLoanRepaid(not.fully.paid=0)                                           13  \n",
       "ActualLoanNotRepaid(not.fully.paid=1)                                         6  "
      ]
     },
     "execution_count": 101,
     "metadata": {
      "tags": []
     },
     "output_type": "execute_result"
    }
   ],
   "source": [
    "con_mat2"
   ]
  },
  {
   "cell_type": "markdown",
   "metadata": {
    "colab_type": "text",
    "id": "CU38XsSi1_aI"
   },
   "source": [
    "### Model evaluation using recall score"
   ]
  },
  {
   "cell_type": "code",
   "execution_count": 0,
   "metadata": {
    "colab": {},
    "colab_type": "code",
    "id": "WGS7QVkv1_aK"
   },
   "outputs": [],
   "source": [
    "from sklearn.metrics import recall_score\n",
    "def recall2_calculation():\n",
    "    recall2=recall_score(y_test,predictions_new)\n",
    "    return recall2\n",
    "recall2 = recall2_calculation()"
   ]
  },
  {
   "cell_type": "markdown",
   "metadata": {
    "colab_type": "text",
    "id": "D2-8AOk21_aN"
   },
   "source": [
    "### Model evaluation using classification report"
   ]
  },
  {
   "cell_type": "code",
   "execution_count": 0,
   "metadata": {
    "colab": {
     "base_uri": "https://localhost:8080/",
     "height": 170
    },
    "colab_type": "code",
    "id": "FmOQXejm1_aO",
    "outputId": "7e35617e-93ae-43d9-d2af-c1c5aed0199f"
   },
   "outputs": [
    {
     "name": "stdout",
     "output_type": "stream",
     "text": [
      "              precision    recall  f1-score   support\n",
      "\n",
      "           0       0.84      0.99      0.91      2397\n",
      "           1       0.32      0.01      0.02       477\n",
      "\n",
      "   micro avg       0.83      0.83      0.83      2874\n",
      "   macro avg       0.58      0.50      0.47      2874\n",
      "weighted avg       0.75      0.83      0.76      2874\n",
      "\n"
     ]
    }
   ],
   "source": [
    "def classification_report2():\n",
    "    print(classification_report(y_test,predictions_new))\n",
    "classification_report2()"
   ]
  },
  {
   "cell_type": "markdown",
   "metadata": {
    "colab_type": "text",
    "id": "YRzCT7jF1_aR"
   },
   "source": [
    "### Code to find the difference between the recall score of 2 Decision Tree models created above ."
   ]
  },
  {
   "cell_type": "code",
   "execution_count": 0,
   "metadata": {
    "colab": {
     "base_uri": "https://localhost:8080/",
     "height": 34
    },
    "colab_type": "code",
    "id": "sW6E2f441_aR",
    "outputId": "e599a027-5cf1-4399-d039-d79b8754ea8f"
   },
   "outputs": [
    {
     "data": {
      "text/plain": [
       "0.1949685534591195"
      ]
     },
     "execution_count": 104,
     "metadata": {
      "tags": []
     },
     "output_type": "execute_result"
    }
   ],
   "source": [
    "def recall_difference(): \n",
    "    return recall1-recall2\n",
    "recall_difference()"
   ]
  },
  {
   "cell_type": "markdown",
   "metadata": {
    "colab_type": "text",
    "id": "TSa5ogEO1_aT"
   },
   "source": [
    "<a id=\"section42\"></a>\n",
    "<h3><b>4.2 Random Forest</b></h3>\n",
    "\n",
    "<a id=\"section421\"></a>\n",
    "<h3><b>4.2.1 Building Random Forest Model</b></h3>\n"
   ]
  },
  {
   "cell_type": "markdown",
   "metadata": {
    "colab_type": "text",
    "id": "iClLN1i31_aV"
   },
   "source": [
    "### Instantiating Random Forest Classifier using scikit learn having n_estimators = 600."
   ]
  },
  {
   "cell_type": "code",
   "execution_count": 0,
   "metadata": {
    "colab": {},
    "colab_type": "code",
    "id": "shvzCX131_aW"
   },
   "outputs": [],
   "source": [
    "from sklearn.ensemble import RandomForestClassifier\n",
    "def randomforest():\n",
    "    rfc=RandomForestClassifier(n_estimators=600)\n",
    "    return rfc\n",
    "rfc = randomforest()"
   ]
  },
  {
   "cell_type": "markdown",
   "metadata": {
    "colab_type": "text",
    "id": "AOd9Cldg1_aY"
   },
   "source": [
    "### Fit the model on X_train and y_train"
   ]
  },
  {
   "cell_type": "code",
   "execution_count": 0,
   "metadata": {
    "colab": {
     "base_uri": "https://localhost:8080/",
     "height": 136
    },
    "colab_type": "code",
    "id": "eHguYRkX1_aZ",
    "outputId": "40134887-12b7-42ba-820c-f2f471b71847"
   },
   "outputs": [
    {
     "data": {
      "text/plain": [
       "RandomForestClassifier(bootstrap=True, class_weight=None, criterion='gini',\n",
       "            max_depth=None, max_features='auto', max_leaf_nodes=None,\n",
       "            min_impurity_decrease=0.0, min_impurity_split=None,\n",
       "            min_samples_leaf=1, min_samples_split=2,\n",
       "            min_weight_fraction_leaf=0.0, n_estimators=600, n_jobs=None,\n",
       "            oob_score=False, random_state=None, verbose=0,\n",
       "            warm_start=False)"
      ]
     },
     "execution_count": 106,
     "metadata": {
      "tags": []
     },
     "output_type": "execute_result"
    }
   ],
   "source": [
    "def rf_fit():\n",
    "    return rfc.fit(X_train,y_train) # the fitted model on X_train and y_train\n",
    "rf_fit()"
   ]
  },
  {
   "cell_type": "markdown",
   "metadata": {
    "colab_type": "text",
    "id": "ElyY8Bfo1_ae"
   },
   "source": [
    "### Using the model for prediction"
   ]
  },
  {
   "cell_type": "code",
   "execution_count": 0,
   "metadata": {
    "colab": {
     "base_uri": "https://localhost:8080/",
     "height": 34
    },
    "colab_type": "code",
    "id": "qDOhKoLl1_af",
    "outputId": "d6defc70-3985-4b08-9b8c-0b44d8985fe7"
   },
   "outputs": [
    {
     "data": {
      "text/plain": [
       "array([0, 0, 0, ..., 0, 0, 0])"
      ]
     },
     "execution_count": 118,
     "metadata": {
      "tags": []
     },
     "output_type": "execute_result"
    }
   ],
   "source": [
    "predictions1 = pd.DataFrame()\n",
    "def predictions3():\n",
    "    predictions1=rfc.predict(X_test)\n",
    "    return predictions1\n",
    "predictions1 = predictions3()\n",
    "predictions1"
   ]
  },
  {
   "cell_type": "markdown",
   "metadata": {
    "colab_type": "text",
    "id": "8-QnEC3R1_ak"
   },
   "source": [
    "<a id=\"section422\"></a>\n",
    "<h3><b>4.2.2 Model Evaluation</b></h3>\n",
    "\n",
    "\n",
    "### Model evaluation using Confusion matrix "
   ]
  },
  {
   "cell_type": "code",
   "execution_count": 0,
   "metadata": {
    "colab": {},
    "colab_type": "code",
    "id": "9ltqcWsH1_al"
   },
   "outputs": [],
   "source": [
    "def confusion_matrix3():\n",
    "    con_mat3=pd.DataFrame(confusion_matrix(y_test,predictions1))\n",
    "    con_mat3.index=[\"ActualLoanRepaid(not.fully.paid=0)\",\"ActualLoanNotRepaid(not.fully.paid=1)\"] # GO WITH THE COLUMN NAME AND RENAME IT ACCORDING TO OUR CONVINENCE\n",
    "    con_mat3.columns=[\"PredictedLoanRepaid(not.fully.paid=0)\",\"PredictedLoanNotRepaid(not.fully.paid=1)\"]\n",
    "    \n",
    "    return con_mat3\n",
    "con_mat3=confusion_matrix3()"
   ]
  },
  {
   "cell_type": "code",
   "execution_count": 0,
   "metadata": {
    "colab": {
     "base_uri": "https://localhost:8080/",
     "height": 111
    },
    "colab_type": "code",
    "id": "hQv0OVOzKAct",
    "outputId": "b2e94b9f-64d2-45b2-d0c2-73f0294ace91"
   },
   "outputs": [
    {
     "data": {
      "text/html": [
       "<div>\n",
       "<style scoped>\n",
       "    .dataframe tbody tr th:only-of-type {\n",
       "        vertical-align: middle;\n",
       "    }\n",
       "\n",
       "    .dataframe tbody tr th {\n",
       "        vertical-align: top;\n",
       "    }\n",
       "\n",
       "    .dataframe thead th {\n",
       "        text-align: right;\n",
       "    }\n",
       "</style>\n",
       "<table border=\"1\" class=\"dataframe\">\n",
       "  <thead>\n",
       "    <tr style=\"text-align: right;\">\n",
       "      <th></th>\n",
       "      <th>PredictedLoanRepaid(not.fully.paid=0)</th>\n",
       "      <th>PredictedLoanNotRepaid(not.fully.paid=1)</th>\n",
       "    </tr>\n",
       "  </thead>\n",
       "  <tbody>\n",
       "    <tr>\n",
       "      <th>ActualLoanRepaid(not.fully.paid=0)</th>\n",
       "      <td>2388</td>\n",
       "      <td>9</td>\n",
       "    </tr>\n",
       "    <tr>\n",
       "      <th>ActualLoanNotRepaid(not.fully.paid=1)</th>\n",
       "      <td>472</td>\n",
       "      <td>5</td>\n",
       "    </tr>\n",
       "  </tbody>\n",
       "</table>\n",
       "</div>"
      ],
      "text/plain": [
       "                                       PredictedLoanRepaid(not.fully.paid=0)  \\\n",
       "ActualLoanRepaid(not.fully.paid=0)                                      2388   \n",
       "ActualLoanNotRepaid(not.fully.paid=1)                                    472   \n",
       "\n",
       "                                       PredictedLoanNotRepaid(not.fully.paid=1)  \n",
       "ActualLoanRepaid(not.fully.paid=0)                                            9  \n",
       "ActualLoanNotRepaid(not.fully.paid=1)                                         5  "
      ]
     },
     "execution_count": 109,
     "metadata": {
      "tags": []
     },
     "output_type": "execute_result"
    }
   ],
   "source": [
    "con_mat3"
   ]
  },
  {
   "cell_type": "markdown",
   "metadata": {
    "colab_type": "text",
    "id": "zeK6bnTD1_as"
   },
   "source": [
    "### Model evaluation using recall score"
   ]
  },
  {
   "cell_type": "code",
   "execution_count": 0,
   "metadata": {
    "colab": {
     "base_uri": "https://localhost:8080/",
     "height": 34
    },
    "colab_type": "code",
    "id": "wGT8L7C11_av",
    "outputId": "820a0fab-b2f0-48e3-ee58-b18a2adc5aa4"
   },
   "outputs": [
    {
     "data": {
      "text/plain": [
       "0.010482180293501049"
      ]
     },
     "execution_count": 110,
     "metadata": {
      "tags": []
     },
     "output_type": "execute_result"
    }
   ],
   "source": [
    "from sklearn.metrics import recall_score\n",
    "def recall3():\n",
    "    recall_rfc=recall_score(y_test,predictions1)\n",
    "    return recall_rfc\n",
    "recall_rfc = recall3()\n",
    "recall_rfc"
   ]
  },
  {
   "cell_type": "markdown",
   "metadata": {
    "colab_type": "text",
    "id": "XgNq5yAL1_ay"
   },
   "source": [
    "### Model evaluation using Classification report."
   ]
  },
  {
   "cell_type": "code",
   "execution_count": 0,
   "metadata": {
    "colab": {
     "base_uri": "https://localhost:8080/",
     "height": 170
    },
    "colab_type": "code",
    "id": "pYpnLjC41_az",
    "outputId": "3a3a6363-8e1c-43ef-9be3-cddbfdd37bb3"
   },
   "outputs": [
    {
     "name": "stdout",
     "output_type": "stream",
     "text": [
      "              precision    recall  f1-score   support\n",
      "\n",
      "           0       0.83      1.00      0.91      2397\n",
      "           1       0.36      0.01      0.02       477\n",
      "\n",
      "   micro avg       0.83      0.83      0.83      2874\n",
      "   macro avg       0.60      0.50      0.46      2874\n",
      "weighted avg       0.76      0.83      0.76      2874\n",
      "\n"
     ]
    }
   ],
   "source": [
    "def rf_classification_report():\n",
    "    print(classification_report(y_test,predictions1))\n",
    "    \n",
    "rf_classification_report()"
   ]
  },
  {
   "cell_type": "markdown",
   "metadata": {
    "colab_type": "text",
    "id": "nNdVSii61_a2"
   },
   "source": [
    "### Instantitating Random Forest Model using scikit learn having (criterion='entropy',n_estimators = 100, random_state = 0, max_depth = 2, min_samples_split=4, min_samples_leaf=3, max_leaf_nodes=5).\n",
    "- Refer the link for RandomForestClassifier - http://scikit-learn.org/stable/modules/generated/sklearn.ensemble.RandomForestClassifier.html"
   ]
  },
  {
   "cell_type": "code",
   "execution_count": 0,
   "metadata": {
    "colab": {},
    "colab_type": "code",
    "id": "q8s5SjSD1_a3"
   },
   "outputs": [],
   "source": [
    "def rf():\n",
    "    rfc_new=RandomForestClassifier(criterion='entropy',n_estimators=100,random_state=0,max_depth=2,min_samples_split=4,min_samples_leaf=3,max_leaf_nodes=5)\n",
    "    return rfc_new\n",
    "rfc_new = rf()"
   ]
  },
  {
   "cell_type": "markdown",
   "metadata": {
    "colab_type": "text",
    "id": "qxV-OQfr1_a7"
   },
   "source": [
    "### Fit the model on X_train and y_train"
   ]
  },
  {
   "cell_type": "code",
   "execution_count": 4,
   "metadata": {
    "colab": {
     "base_uri": "https://localhost:8080/",
     "height": 119
    },
    "colab_type": "code",
    "id": "JBBG9zjT1_a9",
    "outputId": "4feadfc3-a9fe-402a-c444-0678816017ba"
   },
   "outputs": [
    {
     "ename": "NameError",
     "evalue": "name 'rfc_new' is not defined",
     "output_type": "error",
     "traceback": [
      "\u001b[1;31m---------------------------------------------------------------------------\u001b[0m",
      "\u001b[1;31mNameError\u001b[0m                                 Traceback (most recent call last)",
      "\u001b[1;32m<ipython-input-4-4162aa6fa9b2>\u001b[0m in \u001b[0;36m<module>\u001b[1;34m()\u001b[0m\n\u001b[0;32m      2\u001b[0m     \u001b[0mrfc_new\u001b[0m\u001b[1;33m.\u001b[0m\u001b[0mfit\u001b[0m\u001b[1;33m(\u001b[0m\u001b[0mX_train\u001b[0m\u001b[1;33m,\u001b[0m\u001b[0my_train\u001b[0m\u001b[1;33m)\u001b[0m\u001b[1;33m\u001b[0m\u001b[0m\n\u001b[0;32m      3\u001b[0m     \u001b[1;32mreturn\u001b[0m \u001b[0mrfc_new\u001b[0m\u001b[1;33m\u001b[0m\u001b[0m\n\u001b[1;32m----> 4\u001b[1;33m \u001b[0mrf2_fit\u001b[0m\u001b[1;33m(\u001b[0m\u001b[1;33m)\u001b[0m\u001b[1;33m\u001b[0m\u001b[0m\n\u001b[0m",
      "\u001b[1;32m<ipython-input-4-4162aa6fa9b2>\u001b[0m in \u001b[0;36mrf2_fit\u001b[1;34m()\u001b[0m\n\u001b[0;32m      1\u001b[0m \u001b[1;32mdef\u001b[0m \u001b[0mrf2_fit\u001b[0m\u001b[1;33m(\u001b[0m\u001b[1;33m)\u001b[0m\u001b[1;33m:\u001b[0m\u001b[1;33m\u001b[0m\u001b[0m\n\u001b[1;32m----> 2\u001b[1;33m     \u001b[0mrfc_new\u001b[0m\u001b[1;33m.\u001b[0m\u001b[0mfit\u001b[0m\u001b[1;33m(\u001b[0m\u001b[0mX_train\u001b[0m\u001b[1;33m,\u001b[0m\u001b[0my_train\u001b[0m\u001b[1;33m)\u001b[0m\u001b[1;33m\u001b[0m\u001b[0m\n\u001b[0m\u001b[0;32m      3\u001b[0m     \u001b[1;32mreturn\u001b[0m \u001b[0mrfc_new\u001b[0m\u001b[1;33m\u001b[0m\u001b[0m\n\u001b[0;32m      4\u001b[0m \u001b[0mrf2_fit\u001b[0m\u001b[1;33m(\u001b[0m\u001b[1;33m)\u001b[0m\u001b[1;33m\u001b[0m\u001b[0m\n",
      "\u001b[1;31mNameError\u001b[0m: name 'rfc_new' is not defined"
     ]
    }
   ],
   "source": [
    "def rf2_fit():\n",
    "    rfc_new.fit(X_train,y_train)\n",
    "    return rfc_new\n",
    "rf2_fit()"
   ]
  },
  {
   "cell_type": "markdown",
   "metadata": {
    "colab_type": "text",
    "id": "PSDcDMuK1_bC"
   },
   "source": [
    "### Using the model for prediction"
   ]
  },
  {
   "cell_type": "code",
   "execution_count": 0,
   "metadata": {
    "colab": {
     "base_uri": "https://localhost:8080/",
     "height": 34
    },
    "colab_type": "code",
    "id": "H_H6dPiB1_bD",
    "outputId": "30a57528-e165-46fe-94c0-cdbb946af312"
   },
   "outputs": [
    {
     "data": {
      "text/plain": [
       "array([0, 0, 0, ..., 0, 0, 0])"
      ]
     },
     "execution_count": 121,
     "metadata": {
      "tags": []
     },
     "output_type": "execute_result"
    }
   ],
   "source": [
    "new_predictions = pd.DataFrame()\n",
    "def prediction4():\n",
    "    new_predictions=rfc_new.predict(X_test)\n",
    "    return new_predictions\n",
    "new_predictions = prediction4()\n",
    "new_predictions"
   ]
  },
  {
   "cell_type": "markdown",
   "metadata": {
    "colab_type": "text",
    "id": "IGsUA5HN1_bI"
   },
   "source": [
    "### Model evaluation using Confusion Matrix"
   ]
  },
  {
   "cell_type": "code",
   "execution_count": 0,
   "metadata": {
    "colab": {},
    "colab_type": "code",
    "id": "ySRvWROO1_bJ"
   },
   "outputs": [],
   "source": [
    "def confusion_matix4():\n",
    "    con_mat4=pd.DataFrame(confusion_matrix(y_test,new_predictions))\n",
    "    con_mat4.index=[\"ActualLoanRepaid(not.fully.paid=0)\",\"ActualLoanNotRepaid(not.fully.paid=1)\"] # GO WITH THE COLUMN NAME AND RENAME IT ACCORDING TO OUR CONVINENCE\n",
    "    con_mat4.columns=[\"PredictedLoanRepaid(not.fully.paid=0)\",\"PredictedLoanNotRepaid(not.fully.paid=1)\"]\n",
    "    \n",
    "    return con_mat4\n",
    "con_mat4=confusion_matix4()\n"
   ]
  },
  {
   "cell_type": "markdown",
   "metadata": {
    "colab_type": "text",
    "id": "h-_LDTo21_bL"
   },
   "source": [
    "### Model evaluation using recall score"
   ]
  },
  {
   "cell_type": "code",
   "execution_count": 0,
   "metadata": {
    "colab": {},
    "colab_type": "code",
    "id": "IbSt-lZG1_bP"
   },
   "outputs": [],
   "source": [
    "from sklearn.metrics import recall_score\n",
    "def recall4():\n",
    "    recall_rfc1=recall_score(y_test,new_predictions)\n",
    "    return recall_rfc1\n",
    "recall_rfc1 = recall4()"
   ]
  },
  {
   "cell_type": "markdown",
   "metadata": {
    "colab_type": "text",
    "id": "nJvvmEey1_bR"
   },
   "source": [
    "### Model evaluation using Classification report"
   ]
  },
  {
   "cell_type": "code",
   "execution_count": 0,
   "metadata": {
    "colab": {
     "base_uri": "https://localhost:8080/",
     "height": 224
    },
    "colab_type": "code",
    "id": "AfXwUuqV1_bS",
    "outputId": "18ed362b-8fa8-4438-d101-e1cc61d59839"
   },
   "outputs": [
    {
     "name": "stdout",
     "output_type": "stream",
     "text": [
      "              precision    recall  f1-score   support\n",
      "\n",
      "           0       0.83      1.00      0.91      2397\n",
      "           1       0.00      0.00      0.00       477\n",
      "\n",
      "   micro avg       0.83      0.83      0.83      2874\n",
      "   macro avg       0.42      0.50      0.45      2874\n",
      "weighted avg       0.70      0.83      0.76      2874\n",
      "\n"
     ]
    },
    {
     "name": "stderr",
     "output_type": "stream",
     "text": [
      "/usr/local/lib/python3.6/dist-packages/sklearn/metrics/classification.py:1143: UndefinedMetricWarning: Precision and F-score are ill-defined and being set to 0.0 in labels with no predicted samples.\n",
      "  'precision', 'predicted', average, warn_for)\n"
     ]
    }
   ],
   "source": [
    "def classification_report4():\n",
    "    print(classification_report(y_test,new_predictions))\n",
    "classification_report4()"
   ]
  }
 ],
 "metadata": {
  "colab": {
   "collapsed_sections": [
    "rwszlHZR1_YT",
    "NCJQKwqS1_YU",
    "YZqJQlKe1_Ya",
    "9EWWa5Iw1_Zy",
    "Awq3Xf4g1_Z2",
    "O7w966GI1_Z5",
    "liC7r2GU1_Z8",
    "fF7LKrvO1_aA",
    "CU38XsSi1_aI",
    "D2-8AOk21_aN",
    "YRzCT7jF1_aR",
    "iClLN1i31_aV",
    "AOd9Cldg1_aY",
    "ElyY8Bfo1_ae",
    "8-QnEC3R1_ak",
    "zeK6bnTD1_as",
    "XgNq5yAL1_ay",
    "nNdVSii61_a2",
    "qxV-OQfr1_a7",
    "PSDcDMuK1_bC",
    "IGsUA5HN1_bI",
    "h-_LDTo21_bL",
    "nJvvmEey1_bR",
    "jMoCFMt-1_bW"
   ],
   "include_colab_link": true,
   "name": "DecisionTreeandrandomForest-LoanRepayment.ipynb",
   "provenance": [],
   "version": "0.3.2"
  },
  "kernelspec": {
   "display_name": "Python 3",
   "language": "python",
   "name": "python3"
  },
  "language_info": {
   "codemirror_mode": {
    "name": "ipython",
    "version": 3
   },
   "file_extension": ".py",
   "mimetype": "text/x-python",
   "name": "python",
   "nbconvert_exporter": "python",
   "pygments_lexer": "ipython3",
   "version": "3.7.0"
  }
 },
 "nbformat": 4,
 "nbformat_minor": 1
}
